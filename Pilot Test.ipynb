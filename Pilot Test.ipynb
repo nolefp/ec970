{
 "cells": [
  {
   "cell_type": "code",
   "execution_count": 1,
   "metadata": {
    "collapsed": false,
    "scrolled": false
   },
   "outputs": [
    {
     "name": "stderr",
     "output_type": "stream",
     "text": [
      "C:\\Users\\nolefp\\Anaconda\\lib\\site-packages\\matplotlib\\__init__.py:872: UserWarning: axes.color_cycle is deprecated and replaced with axes.prop_cycle; please use the latter.\n",
      "  warnings.warn(self.msg_depr % (key, alt_key))\n"
     ]
    }
   ],
   "source": [
    "%matplotlib inline"
   ]
  },
  {
   "cell_type": "code",
   "execution_count": 2,
   "metadata": {
    "code_folding": [],
    "collapsed": false,
    "scrolled": true
   },
   "outputs": [],
   "source": [
    "# pandas options plus some more\n",
    "import numpy as np\n",
    "import scipy as sp\n",
    "import statsmodels.api as sm\n",
    "import statsmodels.formula.api as smf\n",
    "from statsmodels import discrete\n",
    "import re\n",
    "import pandas as pd\n",
    "import math \n",
    "import csv\n",
    "import time\n",
    "import dateutil\n",
    "from datetime import datetime\n",
    "import seaborn as sns\n",
    "import json\n",
    "from IPython.core.display import HTML\n",
    "HTML(\"<style>.container {width:50% !important; }</style>\")\n",
    "\n",
    "pd.set_option('display.width', 1000)\n",
    "pd.set_option('display.max_columns', 100)\n",
    "pd.set_option('display.notebook_repr_html', True)\n",
    "pd.options.display.float_format = '{:,.2f}'.format\n",
    "sns.set_style(\"whitegrid\")\n",
    "sns.set_context(\"poster\")\n"
   ]
  },
  {
   "cell_type": "code",
   "execution_count": 3,
   "metadata": {
    "code_folding": [
     0,
     9
    ],
    "collapsed": false
   },
   "outputs": [
    {
     "name": "stdout",
     "output_type": "stream",
     "text": [
      "Event Registry host: http://eventregistry.org\n"
     ]
    },
    {
     "data": {
      "text/plain": [
       "{u'action': u'success', u'desc': u'Login successful'}"
      ]
     },
     "execution_count": 3,
     "metadata": {},
     "output_type": "execute_result"
    }
   ],
   "source": [
    "# Matplotlib Formatting\n",
    "import matplotlib as mpl\n",
    "import matplotlib.cm as cm\n",
    "import matplotlib.pyplot as plt\n",
    "from matplotlib import gridspec\n",
    "from matplotlib import ticker\n",
    "millnames = ['',' Thousand',' Million',' Billion',' Trillion']\n",
    "def millify(n, pos):\n",
    "    n = float(n)\n",
    "    millidx = max(0,min(len(millnames)-1,\n",
    "                        int(math.floor(0 if n == 0 else math.log10(abs(n))/3))))\n",
    "    thingtoreturn = n / 10**(3 * millidx)\n",
    "    if thingtoreturn % 1 == 0:\n",
    "        return '{:.0f}{}'.format(thingtoreturn, millnames[millidx])\n",
    "    elif thingtoreturn % 0.1 == 0:\n",
    "        return '{:.1f}{}'.format(thingtoreturn, millnames[millidx])\n",
    "    else:\n",
    "        return '{:.2f}{}'.format(thingtoreturn, millnames[millidx])\n",
    "    \n",
    "from eventregistry import *\n",
    "er = EventRegistry()\n",
    "er.login(\"rradovanovic@college.harvard.edu\",\"ruski.EVENT1\")"
   ]
  },
  {
   "cell_type": "code",
   "execution_count": 4,
   "metadata": {
    "collapsed": false
   },
   "outputs": [
    {
     "name": "stderr",
     "output_type": "stream",
     "text": [
      "C:\\Users\\nolefp\\AppData\\Roaming\\Python\\Python27\\site-packages\\IPython\\core\\interactiveshell.py:2723: DtypeWarning: Columns (4,10,26,34) have mixed types. Specify dtype option on import or set low_memory=False.\n",
      "  interactivity=interactivity, compiler=compiler, result=result)\n"
     ]
    }
   ],
   "source": [
    "# load S&P data\n",
    "spdf = pd.read_csv(\"../data/sp500.csv\")\n",
    "names = np.array(spdf.COMNAM.value_counts()[100:300].index)"
   ]
  },
  {
   "cell_type": "code",
   "execution_count": 6,
   "metadata": {
    "collapsed": false
   },
   "outputs": [],
   "source": [
    "%%time\n",
    "\"\"\"\n",
    "# get EventRegistry uri-s\n",
    "\n",
    "uridict = {}\n",
    "i=0\n",
    "for name in names:\n",
    "    uridict[name] = er.getConceptUri(name, lang = \"eng\")\n",
    "orig_uridf = pd.DataFrame.from_dict(uridict, orient='index')\n",
    "orig_uridf.columns = [\"uri\"]\n",
    "uridf = orig_uridf.dropna()\n",
    "\"\"\";"
   ]
  },
  {
   "cell_type": "code",
   "execution_count": 7,
   "metadata": {
    "collapsed": true
   },
   "outputs": [],
   "source": [
    "#uridf.to_excel('../data/uridf.xlsx')\n",
    "uridf = pd.read_excel('../data/uridf.xlsx')"
   ]
  },
  {
   "cell_type": "markdown",
   "metadata": {},
   "source": [
    "## Articles"
   ]
  },
  {
   "cell_type": "code",
   "execution_count": 80,
   "metadata": {
    "collapsed": false
   },
   "outputs": [
    {
     "name": "stdout",
     "output_type": "stream",
     "text": [
      "Wall time: 50.4 s\n"
     ]
    }
   ],
   "source": [
    "\"\"\"\n",
    "%%time\n",
    "\n",
    "# get all articles\n",
    "\n",
    "q_dict_art = {}\n",
    "res_dict_art = {}\n",
    "\n",
    "for i in range(len(uridf)):\n",
    "    # get concept and uri\n",
    "    concept = uridf.index[i]\n",
    "    uri = uridf.uri[i]\n",
    "    \n",
    "    # create article query\n",
    "    q_dict_art[uri] = QueryArticles()\n",
    "    q_dict_art[uri].addConcept(uri)\n",
    "    q_dict_art[uri].addRequestedResult(RequestArticlesUriList(count=50000))\n",
    "    \n",
    "    # store results\n",
    "    res_dict_art[uri] = er.execQuery(q_dict[uri])\n",
    "\"\"\";"
   ]
  },
  {
   "cell_type": "code",
   "execution_count": 81,
   "metadata": {
    "collapsed": true
   },
   "outputs": [],
   "source": [
    "# save so no more requesting\n",
    "#with open('../data/res_dict_art.json', 'w') as fp:\n",
    "#    json.dump(res_dict_art, fp, indent=4)\n",
    "\n",
    "with open('../data/res_dict_art.json', 'r') as fp:\n",
    "    res_dict_art = json.load(fp)"
   ]
  },
  {
   "cell_type": "code",
   "execution_count": 86,
   "metadata": {
    "collapsed": true
   },
   "outputs": [],
   "source": [
    "# get dict of concepts and articles\n",
    "conartdict = {}\n",
    "\n",
    "for uri, res in res_dict_art.items():\n",
    "    if 'uriList' in res_dict_art[uri]:\n",
    "        if 'results' in res_dict_art[uri]['uriList']:\n",
    "            conartdict[uri] = set(res_dict_art[uri]['uriList']['results'])\n",
    "        else:\n",
    "            conartdict[uri] = set()\n",
    "    else:\n",
    "        conartdict[uri] = set()"
   ]
  },
  {
   "cell_type": "code",
   "execution_count": 87,
   "metadata": {
    "collapsed": false
   },
   "outputs": [
    {
     "name": "stdout",
     "output_type": "stream",
     "text": [
      "http://en.wikipedia.org/wiki/Ledbetter_v._Goodyear_Tire_&_Rubber_Co. 28\n",
      "http://en.wikipedia.org/wiki/The_J.M._Smucker_Company 1699\n",
      "http://en.wikipedia.org/wiki/Vernor_v._Autodesk,_Inc. 5\n",
      "http://en.wikipedia.org/wiki/Corning_Inc. 4629\n",
      "http://en.wikipedia.org/wiki/United_States_v._Microsoft_Corp. 663\n",
      "http://en.wikipedia.org/wiki/Genuine_Parts_Company 322\n",
      "http://en.wikipedia.org/wiki/Vulcan_Materials_Company 396\n",
      "http://en.wikipedia.org/wiki/Leonard_v._Pepsico,_Inc. 1\n",
      "http://fr.wikipedia.org/wiki/Occidental_Petroleum_Corporation 9\n",
      "http://en.wikipedia.org/wiki/ConocoPhillips 13482\n",
      "http://en.wikipedia.org/wiki/Gap_Inc. 40785\n",
      "http://en.wikipedia.org/wiki/Eastman_Chemical_Company 1616\n",
      "http://en.wikipedia.org/wiki/Abbott_Laboratories 14512\n",
      "http://it.wikipedia.org/wiki/NVIDIA_Corporation 2\n",
      "http://en.wikipedia.org/wiki/Realty_Income_Corporation 514\n",
      "http://en.wikipedia.org/wiki/Mascoma_Corporation 1\n",
      "http://fr.wikipedia.org/wiki/Kimberly-Clark_Corporation 3\n",
      "http://en.wikipedia.org/wiki/Whirlpool_Corporation 3447\n",
      "http://en.wikipedia.org/wiki/Target_Corporation 50000\n",
      "http://en.wikipedia.org/wiki/Zions_Bancorporation 1087\n",
      "http://en.wikipedia.org/wiki/Sempra_Energy 2248\n",
      "http://en.wikipedia.org/wiki/Barnes_v._Yahoo!,_Inc. 2\n",
      "http://en.wikipedia.org/wiki/Vornado_Realty_Trust 1109\n",
      "http://en.wikipedia.org/wiki/Canadian_International_Paper_Company 1\n",
      "http://en.wikipedia.org/wiki/Norfolk_Southern_Corp. 64\n",
      "http://en.wikipedia.org/wiki/Caterpillar_Inc. 15845\n",
      "http://en.wikipedia.org/wiki/Nike,_Inc. 50000\n",
      "http://en.wikipedia.org/wiki/Royal_Caribbean_Cruises_Ltd. 2106\n",
      "http://en.wikipedia.org/wiki/United_Technologies_Corporation 12132\n",
      "http://en.wikipedia.org/wiki/The_Walt_Disney_Company 50000\n",
      "http://en.wikipedia.org/wiki/Johnson_&_Johnson 34448\n",
      "http://en.wikipedia.org/wiki/Compañia_General_de_Electricidad 2190\n",
      "http://en.wikipedia.org/wiki/Danaher_Corporation 2503\n",
      "http://en.wikipedia.org/wiki/Harris_Corporation 1357\n",
      "http://en.wikipedia.org/wiki/Newmont_Mining_Corporation 4427\n",
      "http://en.wikipedia.org/wiki/Coca-Cola 50000\n",
      "http://en.wikipedia.org/wiki/Coach,_Inc. 1300\n",
      "http://en.wikipedia.org/wiki/Carnival_Corporation_&_plc 4036\n"
     ]
    }
   ],
   "source": [
    "# check totals\n",
    "for uri, articles in conartdict.items():\n",
    "    print uri, len(articles)"
   ]
  },
  {
   "cell_type": "code",
   "execution_count": 84,
   "metadata": {
    "collapsed": true
   },
   "outputs": [],
   "source": [
    "# check rough concept matrix\n",
    "artcovdf = pd.DataFrame(index=uridf.index.unique(), columns=uridf.index.unique())\n",
    "\n",
    "for i in uridf.index.unique():\n",
    "    for j in uridf.index.unique():\n",
    "        uri_i = uridf.loc[i,:].uri\n",
    "        uri_j = uridf.loc[j,:].uri\n",
    "        artcovdf.loc[i, j] = len(conartdict[uri_i].intersection(conartdict[uri_j])) / len(conartdict[uri_i].union(conartdict[uri_j]))"
   ]
  },
  {
   "cell_type": "markdown",
   "metadata": {},
   "source": [
    "## Events"
   ]
  },
  {
   "cell_type": "code",
   "execution_count": 66,
   "metadata": {
    "collapsed": false
   },
   "outputs": [
    {
     "name": "stdout",
     "output_type": "stream",
     "text": [
      "Wall time: 36.8 s\n"
     ]
    }
   ],
   "source": [
    "\"\"\"\n",
    "%%time\n",
    "\n",
    "# get all events\n",
    "\n",
    "q_dict_evt = {}\n",
    "res_dict_evt = {}\n",
    "\n",
    "for i in range(len(uridf)):\n",
    "    # get concept and uri\n",
    "    concept = uridf.index[i]\n",
    "    uri = uridf.uri[i]\n",
    "    \n",
    "    # create article query\n",
    "    q_dict_evt[uri] = QueryEvents()\n",
    "    q_dict_evt[uri].addConcept(uri)\n",
    "    q_dict_evt[uri].addRequestedResult(RequestEventsUriList(count=50000))\n",
    "    \n",
    "    # store results\n",
    "    res_dict_evt[uri] = er.execQuery(q_dict_evt[uri])\n",
    "\"\"\";"
   ]
  },
  {
   "cell_type": "code",
   "execution_count": 67,
   "metadata": {
    "collapsed": true
   },
   "outputs": [],
   "source": [
    "#with open('../data/res_dict_evt.json', 'w') as fp:\n",
    "#    json.dump(res_dict_evt, fp, indent=4)\n",
    "\n",
    "with open('../data/res_dict_evt.json', 'r') as fp:\n",
    "    res_dict_evt = json.load(fp)"
   ]
  },
  {
   "cell_type": "code",
   "execution_count": 78,
   "metadata": {
    "collapsed": false
   },
   "outputs": [],
   "source": [
    "# get dictionary of concepts and article tags\n",
    "conevtdict = {}\n",
    "\n",
    "for uri, res in res_dict_evt.items():\n",
    "    if 'uriList' in res_dict_evt[uri]:\n",
    "        if 'results' in res_dict_evt[uri]['uriList']:\n",
    "            conevtdict[uri] = set(res_dict[uri]['uriList']['results'])\n",
    "        else:\n",
    "            conevtdict[uri] = set()\n",
    "    else:\n",
    "        conevtdict[uri] = set()"
   ]
  },
  {
   "cell_type": "code",
   "execution_count": 79,
   "metadata": {
    "collapsed": false
   },
   "outputs": [
    {
     "name": "stdout",
     "output_type": "stream",
     "text": [
      "http://en.wikipedia.org/wiki/Ledbetter_v._Goodyear_Tire_&_Rubber_Co. 0\n",
      "http://en.wikipedia.org/wiki/The_J.M._Smucker_Company 1699\n",
      "http://en.wikipedia.org/wiki/Vernor_v._Autodesk,_Inc. 0\n",
      "http://en.wikipedia.org/wiki/Corning_Inc. 4628\n",
      "http://en.wikipedia.org/wiki/United_States_v._Microsoft_Corp. 662\n",
      "http://en.wikipedia.org/wiki/Genuine_Parts_Company 322\n",
      "http://en.wikipedia.org/wiki/Vulcan_Materials_Company 396\n",
      "http://en.wikipedia.org/wiki/Leonard_v._Pepsico,_Inc. 0\n",
      "http://fr.wikipedia.org/wiki/Occidental_Petroleum_Corporation 9\n",
      "http://en.wikipedia.org/wiki/ConocoPhillips 13479\n",
      "http://en.wikipedia.org/wiki/Gap_Inc. 40782\n",
      "http://en.wikipedia.org/wiki/Eastman_Chemical_Company 1616\n",
      "http://en.wikipedia.org/wiki/Abbott_Laboratories 14511\n",
      "http://it.wikipedia.org/wiki/NVIDIA_Corporation 0\n",
      "http://en.wikipedia.org/wiki/Realty_Income_Corporation 514\n",
      "http://en.wikipedia.org/wiki/Mascoma_Corporation 0\n",
      "http://fr.wikipedia.org/wiki/Kimberly-Clark_Corporation 0\n",
      "http://en.wikipedia.org/wiki/Whirlpool_Corporation 3447\n",
      "http://en.wikipedia.org/wiki/Target_Corporation 50000\n",
      "http://en.wikipedia.org/wiki/Zions_Bancorporation 1087\n",
      "http://en.wikipedia.org/wiki/Sempra_Energy 2248\n",
      "http://en.wikipedia.org/wiki/Barnes_v._Yahoo!,_Inc. 0\n",
      "http://en.wikipedia.org/wiki/Vornado_Realty_Trust 1109\n",
      "http://en.wikipedia.org/wiki/Canadian_International_Paper_Company 0\n",
      "http://en.wikipedia.org/wiki/Norfolk_Southern_Corp. 64\n",
      "http://en.wikipedia.org/wiki/Caterpillar_Inc. 15844\n",
      "http://en.wikipedia.org/wiki/Nike,_Inc. 50000\n",
      "http://en.wikipedia.org/wiki/Royal_Caribbean_Cruises_Ltd. 2106\n",
      "http://en.wikipedia.org/wiki/United_Technologies_Corporation 12132\n",
      "http://en.wikipedia.org/wiki/The_Walt_Disney_Company 50000\n",
      "http://en.wikipedia.org/wiki/Johnson_&_Johnson 34447\n",
      "http://en.wikipedia.org/wiki/Compañia_General_de_Electricidad 2190\n",
      "http://en.wikipedia.org/wiki/Danaher_Corporation 2503\n",
      "http://en.wikipedia.org/wiki/Harris_Corporation 1357\n",
      "http://en.wikipedia.org/wiki/Newmont_Mining_Corporation 4425\n",
      "http://en.wikipedia.org/wiki/Coca-Cola 50000\n",
      "http://en.wikipedia.org/wiki/Coach,_Inc. 1300\n",
      "http://en.wikipedia.org/wiki/Carnival_Corporation_&_plc 4035\n"
     ]
    }
   ],
   "source": [
    "# check totals\n",
    "for uri, events in conevtdict.items():\n",
    "    print uri, len(events)"
   ]
  },
  {
   "cell_type": "code",
   "execution_count": 72,
   "metadata": {
    "collapsed": false
   },
   "outputs": [],
   "source": [
    "# compute event covariance matrix\n",
    "newscovdf = pd.DataFrame(index=uridf.index.unique(), columns=uridf.index.unique())\n",
    "\n",
    "for i in uridf.index.unique():\n",
    "    for j in uridf.index.unique():\n",
    "        uri_i = uridf.loc[i,:].uri\n",
    "        uri_j = uridf.loc[j,:].uri\n",
    "        newscovdf.loc[i, j] = len(conartdict[uri_i].intersection(conartdict[uri_j])) / np.max((1,len(conartdict[uri_i].union(conartdict[uri_j]))))"
   ]
  },
  {
   "cell_type": "code",
   "execution_count": 74,
   "metadata": {
    "collapsed": false
   },
   "outputs": [
    {
     "data": {
      "text/plain": [
       "KIMBERLY CLARK CORP           0.00\n",
       "UNITED TECHNOLOGIES CORP      1.00\n",
       "OCCIDENTAL PETROLEUM CORP     1.00\n",
       "DANAHER CORP                  1.00\n",
       "CATERPILLAR INC               1.00\n",
       "WHIRLPOOL CORP                1.00\n",
       "NIKE INC                      1.00\n",
       "MICROSOFT CORP                1.00\n",
       "COCA COLA CO                  1.00\n",
       "CORNING INC                   1.00\n",
       "CARNIVAL CORP                 1.00\n",
       "GOODYEAR TIRE & RUBBER CO     0.00\n",
       "PEPSICO INC                   0.00\n",
       "GAP INC                       1.00\n",
       "SEMPRA ENERGY                 1.00\n",
       "YAHOO INC                     0.00\n",
       "MASCO CORP                    0.00\n",
       "TARGET CORP                   1.00\n",
       "COACH INC                     1.00\n",
       "GENERAL ELECTRIC CO           1.00\n",
       "ROYAL CARIBBEAN CRUISES LTD   1.00\n",
       "NEWMONT MINING CORP           1.00\n",
       "DISNEY WALT CO                1.00\n",
       "INTERNATIONAL PAPER CO        0.00\n",
       "NORFOLK SOUTHERN CORP         1.00\n",
       "HARRIS CORP                   1.00\n",
       "AUTODESK INC                  0.00\n",
       "VORNADO REALTY TRUST          1.00\n",
       "VULCAN MATERIALS CO           1.00\n",
       "JOHNSON & JOHNSON             1.00\n",
       "REALTY INCOME CORP            1.00\n",
       "ABBOTT LABORATORIES           1.00\n",
       "CONOCOPHILLIPS                1.00\n",
       "EASTMAN CHEMICAL CO           1.00\n",
       "ZIONS BANCORP                 1.00\n",
       "GENUINE PARTS CO              1.00\n",
       "NVIDIA CORP                   0.00\n",
       "SMUCKER J M CO                1.00\n",
       "dtype: float64"
      ]
     },
     "execution_count": 74,
     "metadata": {},
     "output_type": "execute_result"
    }
   ],
   "source": [
    "newscovdf.sum()"
   ]
  },
  {
   "cell_type": "code",
   "execution_count": null,
   "metadata": {
    "collapsed": true
   },
   "outputs": [],
   "source": []
  }
 ],
 "metadata": {
  "kernelspec": {
   "display_name": "Python 2",
   "language": "python",
   "name": "python2"
  },
  "language_info": {
   "codemirror_mode": {
    "name": "ipython",
    "version": 2
   },
   "file_extension": ".py",
   "mimetype": "text/x-python",
   "name": "python",
   "nbconvert_exporter": "python",
   "pygments_lexer": "ipython2",
   "version": "2.7.11"
  }
 },
 "nbformat": 4,
 "nbformat_minor": 0
}
