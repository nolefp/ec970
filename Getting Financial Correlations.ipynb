{
 "cells": [
  {
   "cell_type": "code",
   "execution_count": 1,
   "metadata": {
    "code_folding": [
     0
    ],
    "collapsed": false,
    "scrolled": false
   },
   "outputs": [
    {
     "name": "stderr",
     "output_type": "stream",
     "text": [
      "C:\\Users\\nolefp\\AppData\\Roaming\\Python\\Python27\\site-packages\\IPython\\utils\\path.py:258: UserWarning: get_ipython_dir has moved to the IPython.paths module\n",
      "  warn(\"get_ipython_dir has moved to the IPython.paths module\")\n"
     ]
    },
    {
     "data": {
      "text/html": [
       "<style>\n",
       "/*\n",
       "Placeholder for custom user CSS\n",
       "\n",
       "mainly to be overridden in profile/static/custom/custom.css\n",
       "\n",
       "This will always be an empty file in IPython\n",
       "*/\n",
       "@import url('http://fonts.googleapis.com/css?family=Lato:200');\n",
       "@import url('http://fonts.googleapis.com/css?family=Lato:300');\n",
       "@import url('http://fonts.googleapis.com/css?family=Lato:400');\n",
       "\n",
       "\n",
       "div.wider {    \n",
       "    margin-left: -100px;\n",
       "    margin-right: -100px;\n",
       "}\n",
       "\n",
       "\n",
       "div.text_cell {\n",
       "    max-width: 105ex; /* instead of 100%, */\n",
       "\n",
       "}\n",
       "\n",
       "\n",
       "div.text_cell_render {\n",
       "    font-family: palatino;\n",
       "    font-size: 12pt;\n",
       "    line-height: 145%; /* added for some line spacing of text. */\n",
       "}\n",
       "div.text_cell_render h1,\n",
       "div.text_cell_render h2,\n",
       "div.text_cell_render h3,\n",
       "div.text_cell_render h4,\n",
       "div.text_cell_render h5, \n",
       "div.text_cell_render h6 {\n",
       "    font-family: palatino, 'HelveticaNeue-Light';\n",
       "    font-weight: 300;\n",
       "}\n",
       "\n",
       "div.rendered_html h1, \n",
       "div.rendered_html h2, \n",
       "div.rendered_html h3, \n",
       "div.rendered_html h4,\n",
       "div.rendered_html h5, \n",
       "div.rendered_html h6 {\n",
       "    font-family: palatino, 'HelveticaNeue-Light';\n",
       "    font-weight: 300;\n",
       "} \n",
       "</style>"
      ],
      "text/plain": [
       "<IPython.core.display.HTML object>"
      ]
     },
     "execution_count": 1,
     "metadata": {},
     "output_type": "execute_result"
    }
   ],
   "source": [
    "# styling\n",
    "from IPython import utils  \n",
    "from IPython.core.display import HTML  \n",
    "import os  \n",
    "def css_styling():  \n",
    "    \"\"\"Load default custom.css file from ipython profile\"\"\"\n",
    "    base = utils.path.get_ipython_dir()\n",
    "    styles = \"<style>\\n%s\\n</style>\" % (open(os.path.join(base,'profile_default/static/custom/custom.css'),'r').read())\n",
    "    return HTML(styles)\n",
    "css_styling()  "
   ]
  },
  {
   "cell_type": "code",
   "execution_count": 2,
   "metadata": {
    "collapsed": false,
    "scrolled": false
   },
   "outputs": [
    {
     "name": "stderr",
     "output_type": "stream",
     "text": [
      "C:\\Users\\nolefp\\Anaconda\\lib\\site-packages\\matplotlib\\__init__.py:872: UserWarning: axes.color_cycle is deprecated and replaced with axes.prop_cycle; please use the latter.\n",
      "  warnings.warn(self.msg_depr % (key, alt_key))\n"
     ]
    }
   ],
   "source": [
    "%matplotlib inline"
   ]
  },
  {
   "cell_type": "code",
   "execution_count": 3,
   "metadata": {
    "code_folding": [
     0
    ],
    "collapsed": false,
    "scrolled": true
   },
   "outputs": [],
   "source": [
    "# libraries + pandas options\n",
    "import numpy as np\n",
    "import scipy as sp\n",
    "import statsmodels.api as sm\n",
    "import statsmodels.formula.api as smf\n",
    "from statsmodels import discrete\n",
    "import re\n",
    "import regex\n",
    "import collections\n",
    "import pandas as pd\n",
    "import math \n",
    "import csv\n",
    "import time\n",
    "import dateutil\n",
    "from datetime import datetime\n",
    "import seaborn as sns\n",
    "import json\n",
    "\n",
    "pd.set_option('display.width', 1500)\n",
    "pd.set_option('max_colwidth',100)\n",
    "pd.set_option('display.max_columns', 100)\n",
    "pd.set_option('display.notebook_repr_html', True)\n",
    "pd.options.display.float_format = '{:,.3f}'.format\n",
    "sns.set_style(\"whitegrid\")\n",
    "sns.set_context(\"poster\")\n",
    "\n",
    "import matplotlib as mpl\n",
    "import matplotlib.cm as cm\n",
    "import matplotlib.pyplot as plt\n",
    "from matplotlib import gridspec\n",
    "from matplotlib import ticker\n",
    "    "
   ]
  },
  {
   "cell_type": "code",
   "execution_count": 4,
   "metadata": {
    "code_folding": [
     0
    ],
    "collapsed": false,
    "scrolled": false
   },
   "outputs": [
    {
     "name": "stdout",
     "output_type": "stream",
     "text": [
      "Event Registry host: http://eventregistry.org\n"
     ]
    },
    {
     "data": {
      "text/plain": [
       "{u'action': u'success', u'desc': u'Login successful'}"
      ]
     },
     "execution_count": 4,
     "metadata": {},
     "output_type": "execute_result"
    }
   ],
   "source": [
    "# EventRegistry login\n",
    "from eventregistry import *\n",
    "er = EventRegistry()\n",
    "er.login(\"rradovanovic@college.harvard.edu\",\"ruski.EVENT1\")"
   ]
  },
  {
   "cell_type": "markdown",
   "metadata": {},
   "source": [
    "# Compute Correlations Between Stock Stuff"
   ]
  },
  {
   "cell_type": "code",
   "execution_count": 65,
   "metadata": {
    "collapsed": false
   },
   "outputs": [],
   "source": [
    "stocksdf = pd.read_csv('../data/financial/only_relevant_stocks.csv')\n",
    "stocksdf.date = pd.to_datetime(stocksdf.date)"
   ]
  },
  {
   "cell_type": "code",
   "execution_count": 66,
   "metadata": {
    "collapsed": true
   },
   "outputs": [],
   "source": [
    "# there are some stocks with a return value of C, we remove them and convert to float\n",
    "stocksdf.drop(stocksdf[stocksdf.ret == 'C'].index, inplace=1)\n",
    "stocksdf.ret = stocksdf.ret.astype(float)"
   ]
  },
  {
   "cell_type": "code",
   "execution_count": 67,
   "metadata": {
    "collapsed": false
   },
   "outputs": [
    {
     "data": {
      "text/plain": [
       "TAP     1510\n",
       "BIO     1510\n",
       "GEF     1510\n",
       "HVT     1510\n",
       "LEN     1510\n",
       "MKC     1510\n",
       "CBS     1510\n",
       "STZ     1510\n",
       "WSO     1510\n",
       "TDS      520\n",
       "AAN      239\n",
       "DO         9\n",
       "COLB       8\n",
       "CBSH       7\n",
       "NAN        7\n",
       "Name: ticker, dtype: int64"
      ]
     },
     "execution_count": 67,
     "metadata": {},
     "output_type": "execute_result"
    }
   ],
   "source": [
    "# we have some duplicates in our data set\n",
    "stocksdf[stocksdf.duplicated([\"date\",\"ticker\"])].ticker.value_counts()[:15]"
   ]
  },
  {
   "cell_type": "code",
   "execution_count": 68,
   "metadata": {
    "collapsed": false
   },
   "outputs": [
    {
     "data": {
      "text/plain": [
       "(147, 20)"
      ]
     },
     "execution_count": 68,
     "metadata": {},
     "output_type": "execute_result"
    }
   ],
   "source": [
    "# let's check if these duplicates also have different vwretd data\n",
    "stocksdf[stocksdf.duplicated([\"date\",\"ticker\",\"ret\", \"sprtrn\"])].shape"
   ]
  },
  {
   "cell_type": "markdown",
   "metadata": {},
   "source": [
    "Since they don't, we don't have to care, woohoo! "
   ]
  },
  {
   "cell_type": "code",
   "execution_count": 90,
   "metadata": {
    "collapsed": false
   },
   "outputs": [],
   "source": [
    "# we reshape our data to get a dataframe with a date index and each ticker as a column\n",
    "temp = stocksdf[[\"date\", \"sprtrn\", \"ticker\",\"ret\",\"vol\"]].copy().drop_duplicates([\"date\",\"ticker\"])\n",
    "\n",
    "# add variables\n",
    "temp[\"return_over_market\"] = temp.ret - temp.sprtrn\n",
    "temp[\"abolute_return\"] = np.absolute(temp.ret)\n",
    "\n",
    "# get necessary unstacked dataframes\n",
    "returns = temp[[\"date\",\"ticker\",\"return_over_market\"]].copy().set_index([\"date\",\"ticker\"]).unstack('ticker')\n",
    "absreturns = temp[[\"date\",\"ticker\",\"abolute_return\"]].copy().set_index([\"date\",\"ticker\"]).unstack('ticker')\n",
    "volumes = temp[[\"date\",\"ticker\",\"vol\"]].copy().set_index([\"date\",\"ticker\"]).unstack('ticker')\n",
    "\n"
   ]
  },
  {
   "cell_type": "code",
   "execution_count": 91,
   "metadata": {
    "collapsed": false
   },
   "outputs": [
    {
     "name": "stdout",
     "output_type": "stream",
     "text": [
      "19\n",
      "23\n",
      "19\n"
     ]
    }
   ],
   "source": [
    "# we quickly check for null entries (not too many)\n",
    "print returns.isnull().sum().sum()\n",
    "print volumes.isnull().sum().sum()\n",
    "print absreturns.isnull().sum().sum()"
   ]
  },
  {
   "cell_type": "code",
   "execution_count": 92,
   "metadata": {
    "collapsed": false
   },
   "outputs": [
    {
     "name": "stdout",
     "output_type": "stream",
     "text": [
      "Wall time: 2min 50s\n"
     ]
    }
   ],
   "source": [
    "%%time\n",
    "# we run a test to see how long it takes to compute the correlations of 100 columns\n",
    "return_correlations = returns.corr(method='pearson')\n",
    "absreturn_correlations = absreturns.corr(method='pearson')\n",
    "volume_correlations = volumes.corr(method='pearson')"
   ]
  },
  {
   "cell_type": "code",
   "execution_count": 94,
   "metadata": {
    "collapsed": false
   },
   "outputs": [],
   "source": [
    "return_correlations.to_csv('../data/return_correlations.csv')\n",
    "absreturn_correlations.to_csv('../data/absreturn_correlations.csv')\n",
    "volume_correlations.to_csv('../data/volume_correlations.csv')"
   ]
  },
  {
   "cell_type": "code",
   "execution_count": null,
   "metadata": {
    "collapsed": true
   },
   "outputs": [],
   "source": []
  }
 ],
 "metadata": {
  "kernelspec": {
   "display_name": "Python 2",
   "language": "python",
   "name": "python2"
  },
  "language_info": {
   "codemirror_mode": {
    "name": "ipython",
    "version": 2
   },
   "file_extension": ".py",
   "mimetype": "text/x-python",
   "name": "python",
   "nbconvert_exporter": "python",
   "pygments_lexer": "ipython2",
   "version": "2.7.11"
  }
 },
 "nbformat": 4,
 "nbformat_minor": 0
}
