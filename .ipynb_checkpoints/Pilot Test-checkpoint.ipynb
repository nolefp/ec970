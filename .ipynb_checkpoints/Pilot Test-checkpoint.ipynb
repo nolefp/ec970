{
 "cells": [
  {
   "cell_type": "code",
   "execution_count": 7,
   "metadata": {
    "collapsed": false,
    "scrolled": false
   },
   "outputs": [],
   "source": [
    "%matplotlib inline\n",
    "import numpy as np\n",
    "import scipy as sp\n",
    "import statsmodels.api as sm\n",
    "import statsmodels.formula.api as smf\n",
    "from statsmodels import discrete\n",
    "\n",
    "import re\n",
    "import pandas as pd\n",
    "import math \n",
    "import csv\n",
    "import time\n",
    "import dateutil\n",
    "from datetime import datetime\n",
    "import seaborn as sns\n",
    "\n",
    "from IPython.core.display import HTML\n",
    "HTML(\"<style>.container {width:50% !important; }</style>\");"
   ]
  },
  {
   "cell_type": "code",
   "execution_count": 8,
   "metadata": {
    "code_folding": [],
    "collapsed": false,
    "scrolled": true
   },
   "outputs": [],
   "source": [
    "# pandas options plus some more\n",
    "pd.set_option('display.width', 1000)\n",
    "pd.set_option('display.max_columns', 100)\n",
    "pd.set_option('display.notebook_repr_html', True)\n",
    "pd.options.display.float_format = '{:,.2f}'.format\n",
    "sns.set_style(\"whitegrid\")\n",
    "sns.set_context(\"poster\")"
   ]
  },
  {
   "cell_type": "code",
   "execution_count": 9,
   "metadata": {
    "code_folding": [
     9
    ],
    "collapsed": false
   },
   "outputs": [],
   "source": [
    "# Matplotlib Formatting\n",
    "import matplotlib as mpl\n",
    "import matplotlib.cm as cm\n",
    "import matplotlib.pyplot as plt\n",
    "from matplotlib import gridspec\n",
    "from matplotlib import ticker\n",
    "\n",
    "\n",
    "millnames = ['',' Thousand',' Million',' Billion',' Trillion']\n",
    "def millify(n, pos):\n",
    "    n = float(n)\n",
    "    millidx = max(0,min(len(millnames)-1,\n",
    "                        int(math.floor(0 if n == 0 else math.log10(abs(n))/3))))\n",
    "    thingtoreturn = n / 10**(3 * millidx)\n",
    "    if thingtoreturn % 1 == 0:\n",
    "        return '{:.0f}{}'.format(thingtoreturn, millnames[millidx])\n",
    "    elif thingtoreturn % 0.1 == 0:\n",
    "        return '{:.1f}{}'.format(thingtoreturn, millnames[millidx])\n",
    "    else:\n",
    "        return '{:.2f}{}'.format(thingtoreturn, millnames[millidx])"
   ]
  },
  {
   "cell_type": "code",
   "execution_count": 14,
   "metadata": {
    "collapsed": false
   },
   "outputs": [
    {
     "name": "stdout",
     "output_type": "stream",
     "text": [
      "Event Registry host: http://eventregistry.org\n",
      "[{u'label': {u'eng': u'Orsi\\xe8res'}, u'type': u'wiki', u'uri': u'http://en.wikipedia.org/wiki/Orsi\\ufffd\\ufffdres', u'trendingScore': {u'news': {u'nullPopFq': 1, u'score': 420.9720935274548, u'testPopFq': 166}}, u'id': u'1221764'}, {u'label': {u'eng': u'Ministry of the Interior (Afghanistan)'}, u'type': u'org', u'uri': u'http://en.wikipedia.org/wiki/Ministry_of_the_Interior_(Afghanistan)', u'trendingScore': {u'news': {u'nullPopFq': 3, u'score': 384.7485696801548, u'testPopFq': 263}}, u'id': u'591249'}, {u'label': {u'eng': u'Patricio Aylwin'}, u'type': u'person', u'uri': u'http://en.wikipedia.org/wiki/Patricio_Aylwin', u'trendingScore': {u'news': {u'nullPopFq': 42, u'score': 378.5474773350163, u'testPopFq': 973}}, u'id': u'292650'}, {u'label': {u'eng': u'Jeff Darlington'}, u'type': u'person', u'uri': u'http://en.wikipedia.org/wiki/Jeff_Darlington', u'trendingScore': {u'news': {u'nullPopFq': 2, u'score': 376.3685613197475, u'testPopFq': 210}}, u'id': u'104655'}, {u'label': {u'eng': u'Ut\\xf8ya'}, u'type': u'wiki', u'uri': u'http://en.wikipedia.org/wiki/Ut\\xf8ya', u'trendingScore': {u'news': {u'nullPopFq': 9, u'score': 376.1861280048584, u'testPopFq': 446}}, u'id': u'1267055'}, {u'label': {u'eng': u'Brett Ratliff'}, u'type': u'person', u'uri': u'http://en.wikipedia.org/wiki/Brett_Ratliff', u'trendingScore': {u'news': {u'nullPopFq': 1, u'score': 352.4366516122412, u'testPopFq': 139}}, u'id': u'908678'}, {u'label': {u'eng': u'Bundeskriminalamtgesetz'}, u'type': u'wiki', u'uri': u'http://de.wikipedia.org/wiki/Bundeskriminalamtgesetz', u'trendingScore': {u'news': {u'nullPopFq': 10, u'score': 319.8328658162598, u'testPopFq': 400}}, u'id': u'1872775'}, {u'label': {u'eng': u'Breivik (Nordland)'}, u'type': u'wiki', u'uri': u'http://fr.wikipedia.org/wiki/Breivik_(Nordland)', u'trendingScore': {u'news': {u'nullPopFq': 1, u'score': 311.8230564032257, u'testPopFq': 123}}, u'id': u'1767721'}, {u'label': {u'eng': u'VXR'}, u'type': u'wiki', u'uri': u'http://en.wikipedia.org/wiki/VXR', u'trendingScore': {u'news': {u'nullPopFq': 2, u'score': 304.5731898299143, u'testPopFq': 170}}, u'id': u'290120'}, {u'label': {u'eng': u'Freeride World Tour'}, u'type': u'wiki', u'uri': u'http://en.wikipedia.org/wiki/Freeride_World_Tour', u'trendingScore': {u'news': {u'nullPopFq': 4, u'score': 287.3147774817916, u'testPopFq': 227}}, u'id': u'1016825'}]\n"
     ]
    }
   ],
   "source": [
    "from eventregistry import *\n",
    "er = EventRegistry()\n",
    "# top 10 trending concepts in the news\n",
    "q = GetTrendingConcepts(source = \"news\", count = 10)\n",
    "print er.execQuery(q)"
   ]
  },
  {
   "cell_type": "code",
   "execution_count": null,
   "metadata": {
    "collapsed": true
   },
   "outputs": [],
   "source": []
  }
 ],
 "metadata": {
  "kernelspec": {
   "display_name": "Python 2",
   "language": "python",
   "name": "python2"
  },
  "language_info": {
   "codemirror_mode": {
    "name": "ipython",
    "version": 2
   },
   "file_extension": ".py",
   "mimetype": "text/x-python",
   "name": "python",
   "nbconvert_exporter": "python",
   "pygments_lexer": "ipython2",
   "version": "2.7.11"
  }
 },
 "nbformat": 4,
 "nbformat_minor": 0
}
