{
 "cells": [
  {
   "cell_type": "code",
   "execution_count": 181,
   "metadata": {
    "code_folding": [
     0
    ],
    "collapsed": false
   },
   "outputs": [
    {
     "data": {
      "text/html": [
       "<style>\n",
       "/*\n",
       "Placeholder for custom user CSS\n",
       "\n",
       "mainly to be overridden in profile/static/custom/custom.css\n",
       "\n",
       "This will always be an empty file in IPython\n",
       "*/\n",
       "@import url('http://fonts.googleapis.com/css?family=Lato:200');\n",
       "@import url('http://fonts.googleapis.com/css?family=Lato:300');\n",
       "@import url('http://fonts.googleapis.com/css?family=Lato:400');\n",
       "\n",
       "\n",
       "div.wider {    \n",
       "    margin-left: -100px;\n",
       "    margin-right: -100px;\n",
       "}\n",
       "\n",
       "\n",
       "div.text_cell {\n",
       "    max-width: 105ex; /* instead of 100%, */\n",
       "\n",
       "}\n",
       "\n",
       "\n",
       "div.text_cell_render {\n",
       "    font-family: palatino;\n",
       "    font-size: 12pt;\n",
       "    line-height: 145%; /* added for some line spacing of text. */\n",
       "}\n",
       "div.text_cell_render h1,\n",
       "div.text_cell_render h2,\n",
       "div.text_cell_render h3,\n",
       "div.text_cell_render h4,\n",
       "div.text_cell_render h5, \n",
       "div.text_cell_render h6 {\n",
       "    font-family: palatino, 'HelveticaNeue-Light';\n",
       "    font-weight: 300;\n",
       "}\n",
       "\n",
       "div.rendered_html h1, \n",
       "div.rendered_html h2, \n",
       "div.rendered_html h3, \n",
       "div.rendered_html h4,\n",
       "div.rendered_html h5, \n",
       "div.rendered_html h6 {\n",
       "    font-family: palatino, 'HelveticaNeue-Light';\n",
       "    font-weight: 300;\n",
       "} \n",
       "</style>"
      ],
      "text/plain": [
       "<IPython.core.display.HTML object>"
      ]
     },
     "execution_count": 181,
     "metadata": {},
     "output_type": "execute_result"
    }
   ],
   "source": [
    "# styling\n",
    "from IPython import utils  \n",
    "from IPython.core.display import HTML  \n",
    "import os  \n",
    "def css_styling():  \n",
    "    \"\"\"Load default custom.css file from ipython profile\"\"\"\n",
    "    base = utils.path.get_ipython_dir()\n",
    "    styles = \"<style>\\n%s\\n</style>\" % (open(os.path.join(base,'profile_default/static/custom/custom.css'),'r').read())\n",
    "    return HTML(styles)\n",
    "css_styling()  "
   ]
  },
  {
   "cell_type": "code",
   "execution_count": 182,
   "metadata": {
    "collapsed": false,
    "scrolled": false
   },
   "outputs": [],
   "source": [
    "%matplotlib inline"
   ]
  },
  {
   "cell_type": "code",
   "execution_count": 222,
   "metadata": {
    "code_folding": [
     0
    ],
    "collapsed": false,
    "scrolled": true
   },
   "outputs": [],
   "source": [
    "# libraries + pandas options\n",
    "import numpy as np\n",
    "import scipy as sp\n",
    "import statsmodels.api as sm\n",
    "import statsmodels.formula.api as smf\n",
    "from statsmodels import discrete\n",
    "import re\n",
    "import regex\n",
    "import collections\n",
    "import pandas as pd\n",
    "import math \n",
    "import csv\n",
    "import time\n",
    "import dateutil\n",
    "from datetime import datetime\n",
    "import seaborn as sns\n",
    "import json\n",
    "\n",
    "pd.set_option('display.width', 1500)\n",
    "pd.set_option('max_colwidth',100)\n",
    "pd.set_option('display.max_columns', 100)\n",
    "pd.set_option('display.notebook_repr_html', True)\n",
    "pd.options.display.float_format = '{:,.3f}'.format\n",
    "sns.set_style(\"whitegrid\")\n",
    "sns.set_context(\"poster\")\n",
    "\n",
    "import matplotlib as mpl\n",
    "import matplotlib.cm as cm\n",
    "import matplotlib.pyplot as plt\n",
    "from matplotlib import gridspec\n",
    "from matplotlib import ticker\n",
    "    "
   ]
  },
  {
   "cell_type": "code",
   "execution_count": 184,
   "metadata": {
    "code_folding": [
     0
    ],
    "collapsed": false
   },
   "outputs": [
    {
     "name": "stdout",
     "output_type": "stream",
     "text": [
      "Event Registry host: http://eventregistry.org\n"
     ]
    },
    {
     "data": {
      "text/plain": [
       "{u'action': u'success', u'desc': u'Login successful'}"
      ]
     },
     "execution_count": 184,
     "metadata": {},
     "output_type": "execute_result"
    }
   ],
   "source": [
    "# EventRegistry login\n",
    "from eventregistry import *\n",
    "er = EventRegistry()\n",
    "er.login(\"rradovanovic@college.harvard.edu\",\"ruski.EVENT1\")"
   ]
  },
  {
   "cell_type": "markdown",
   "metadata": {},
   "source": [
    "# Notebook Contents\n",
    "\n",
    "[Selecting Firms](#firms)\n",
    "\n",
    "[Obtaining Firms Data & Financials](#financials)\n",
    "\n",
    "[Get company concepts](#concepts)\n",
    "  * [Get list of company names](#comnam)\n",
    "  * [Testing getConceptUri](#getconcept)      \n",
    "  * [Ticker-name dictionary](#namesdict)\n",
    "  * [Testing suggestConcepts](#suggestconcepts)\n",
    "  * [Exploring concept info](#conceptinfo)\n",
    "  * [Ticker-uri dictionary](#ticdict)\n",
    "\n",
    "[Querying News](#news)\n",
    "  * [Exploring classifications](#classifications)\n",
    "  * [Articles](#articles)\n",
    "  * [Events](#events)"
   ]
  },
  {
   "cell_type": "markdown",
   "metadata": {},
   "source": [
    "# Selecting Firms <a id='firms'></a>\n",
    "\n",
    "Similar to Yaros & Imielinski(Y&I, 2015), in this paper I use firms from the S&P 500, 400, and 600. To obtain the constituents of these indexes I follow the instructions in xxxxxpaper. I query COMPUSTAT's monthly index constituents database for the time range 2014-2016, as this is the period for which Event Registry has news data. It should be noted that this query results in  significantly more firms that 1500, due to the fact that there is turnover in the membership of each of the indexes. In various studies, this, as well as survivorship bias, can be of concern. However, in this study, I will specifically be comparing the performance of two different methods on the same dataset. I see no reason to believe one method would be more or less effective than the other due to these reasons. As such, neither of these concerns should bias my results.   \n",
    "\n",
    "I obtain the list loaded below:"
   ]
  },
  {
   "cell_type": "code",
   "execution_count": 73,
   "metadata": {
    "code_folding": [
     0
    ],
    "collapsed": false
   },
   "outputs": [
    {
     "data": {
      "text/html": [
       "<div>\n",
       "<table border=\"1\" class=\"dataframe\">\n",
       "  <thead>\n",
       "    <tr style=\"text-align: right;\">\n",
       "      <th></th>\n",
       "      <th>gvkey</th>\n",
       "      <th>iid</th>\n",
       "      <th>gvkeyx</th>\n",
       "      <th>from</th>\n",
       "      <th>thru</th>\n",
       "      <th>conm</th>\n",
       "      <th>tic</th>\n",
       "      <th>spii</th>\n",
       "      <th>spmi</th>\n",
       "      <th>co_conm</th>\n",
       "      <th>co_tic</th>\n",
       "      <th>co_cusip</th>\n",
       "      <th>co_cik</th>\n",
       "      <th>co_sic</th>\n",
       "      <th>co_naics</th>\n",
       "    </tr>\n",
       "  </thead>\n",
       "  <tbody>\n",
       "    <tr>\n",
       "      <th>0</th>\n",
       "      <td>1078</td>\n",
       "      <td>1</td>\n",
       "      <td>3</td>\n",
       "      <td>3/31/1964</td>\n",
       "      <td>NaN</td>\n",
       "      <td>S&amp;P 500 Comp-Ltd</td>\n",
       "      <td>I0003</td>\n",
       "      <td>nan</td>\n",
       "      <td>10</td>\n",
       "      <td>ABBOTT LABORATORIES</td>\n",
       "      <td>ABT</td>\n",
       "      <td>2824100</td>\n",
       "      <td>1,800.000</td>\n",
       "      <td>2,834.000</td>\n",
       "      <td>325,412.000</td>\n",
       "    </tr>\n",
       "    <tr>\n",
       "      <th>1</th>\n",
       "      <td>1300</td>\n",
       "      <td>1</td>\n",
       "      <td>3</td>\n",
       "      <td>3/31/1964</td>\n",
       "      <td>NaN</td>\n",
       "      <td>S&amp;P 500 Comp-Ltd</td>\n",
       "      <td>I0003</td>\n",
       "      <td>nan</td>\n",
       "      <td>10</td>\n",
       "      <td>HONEYWELL INTERNATIONAL INC</td>\n",
       "      <td>HON</td>\n",
       "      <td>438516106</td>\n",
       "      <td>773,840.000</td>\n",
       "      <td>3,822.000</td>\n",
       "      <td>334,512.000</td>\n",
       "    </tr>\n",
       "    <tr>\n",
       "      <th>2</th>\n",
       "      <td>1356</td>\n",
       "      <td>1</td>\n",
       "      <td>3</td>\n",
       "      <td>3/31/1964</td>\n",
       "      <td>NaN</td>\n",
       "      <td>S&amp;P 500 Comp-Ltd</td>\n",
       "      <td>I0003</td>\n",
       "      <td>nan</td>\n",
       "      <td>10</td>\n",
       "      <td>ALCOA INC</td>\n",
       "      <td>AA</td>\n",
       "      <td>13817101</td>\n",
       "      <td>4,281.000</td>\n",
       "      <td>3,350.000</td>\n",
       "      <td>3,313.000</td>\n",
       "    </tr>\n",
       "    <tr>\n",
       "      <th>3</th>\n",
       "      <td>1440</td>\n",
       "      <td>1</td>\n",
       "      <td>3</td>\n",
       "      <td>3/31/1964</td>\n",
       "      <td>NaN</td>\n",
       "      <td>S&amp;P 500 Comp-Ltd</td>\n",
       "      <td>I0003</td>\n",
       "      <td>nan</td>\n",
       "      <td>10</td>\n",
       "      <td>AMERICAN ELECTRIC POWER CO</td>\n",
       "      <td>AEP</td>\n",
       "      <td>25537101</td>\n",
       "      <td>4,904.000</td>\n",
       "      <td>4,911.000</td>\n",
       "      <td>2,211.000</td>\n",
       "    </tr>\n",
       "    <tr>\n",
       "      <th>4</th>\n",
       "      <td>1976</td>\n",
       "      <td>1</td>\n",
       "      <td>3</td>\n",
       "      <td>3/31/1964</td>\n",
       "      <td>NaN</td>\n",
       "      <td>S&amp;P 500 Comp-Ltd</td>\n",
       "      <td>I0003</td>\n",
       "      <td>nan</td>\n",
       "      <td>10</td>\n",
       "      <td>BAKER HUGHES INC</td>\n",
       "      <td>BHI</td>\n",
       "      <td>57224107</td>\n",
       "      <td>808,362.000</td>\n",
       "      <td>1,381.000</td>\n",
       "      <td>213,111.000</td>\n",
       "    </tr>\n",
       "  </tbody>\n",
       "</table>\n",
       "</div>"
      ],
      "text/plain": [
       "   gvkey  iid  gvkeyx       from thru              conm    tic  spii  spmi                      co_conm co_tic   co_cusip      co_cik    co_sic    co_naics\n",
       "0   1078    1       3  3/31/1964  NaN  S&P 500 Comp-Ltd  I0003   nan    10          ABBOTT LABORATORIES    ABT    2824100   1,800.000 2,834.000 325,412.000\n",
       "1   1300    1       3  3/31/1964  NaN  S&P 500 Comp-Ltd  I0003   nan    10  HONEYWELL INTERNATIONAL INC    HON  438516106 773,840.000 3,822.000 334,512.000\n",
       "2   1356    1       3  3/31/1964  NaN  S&P 500 Comp-Ltd  I0003   nan    10                    ALCOA INC     AA   13817101   4,281.000 3,350.000   3,313.000\n",
       "3   1440    1       3  3/31/1964  NaN  S&P 500 Comp-Ltd  I0003   nan    10   AMERICAN ELECTRIC POWER CO    AEP   25537101   4,904.000 4,911.000   2,211.000\n",
       "4   1976    1       3  3/31/1964  NaN  S&P 500 Comp-Ltd  I0003   nan    10             BAKER HUGHES INC    BHI   57224107 808,362.000 1,381.000 213,111.000"
      ]
     },
     "execution_count": 73,
     "metadata": {},
     "output_type": "execute_result"
    }
   ],
   "source": [
    "# load list\n",
    "indexfirmdf = pd.read_csv('../data/firms/sp500_400_600.csv')\n",
    "indexfirmdf.head()"
   ]
  },
  {
   "cell_type": "markdown",
   "metadata": {},
   "source": [
    "Below, we take a look at the number of firms returned for each index over the period. As we might expect, the least turnover occurs within the S&P 500 index. "
   ]
  },
  {
   "cell_type": "code",
   "execution_count": 6,
   "metadata": {
    "code_folding": [
     0
    ],
    "collapsed": false
   },
   "outputs": [
    {
     "data": {
      "text/html": [
       "<div>\n",
       "<table border=\"1\" class=\"dataframe\">\n",
       "  <thead>\n",
       "    <tr style=\"text-align: right;\">\n",
       "      <th></th>\n",
       "      <th>index</th>\n",
       "      <th>total_firms</th>\n",
       "      <th>target_value_at_any_point</th>\n",
       "      <th>index composition turnover</th>\n",
       "    </tr>\n",
       "  </thead>\n",
       "  <tbody>\n",
       "    <tr>\n",
       "      <th>0</th>\n",
       "      <td>S&amp;P Smallcap 600 Index</td>\n",
       "      <td>737</td>\n",
       "      <td>600</td>\n",
       "      <td>0.228</td>\n",
       "    </tr>\n",
       "    <tr>\n",
       "      <th>1</th>\n",
       "      <td>S&amp;P 500 Comp-Ltd</td>\n",
       "      <td>551</td>\n",
       "      <td>500</td>\n",
       "      <td>0.102</td>\n",
       "    </tr>\n",
       "    <tr>\n",
       "      <th>2</th>\n",
       "      <td>S&amp;P Midcap 400 Index</td>\n",
       "      <td>505</td>\n",
       "      <td>400</td>\n",
       "      <td>0.263</td>\n",
       "    </tr>\n",
       "  </tbody>\n",
       "</table>\n",
       "</div>"
      ],
      "text/plain": [
       "                    index  total_firms  target_value_at_any_point  index composition turnover\n",
       "0  S&P Smallcap 600 Index          737                        600                       0.228\n",
       "1        S&P 500 Comp-Ltd          551                        500                       0.102\n",
       "2    S&P Midcap 400 Index          505                        400                       0.263"
      ]
     },
     "execution_count": 6,
     "metadata": {},
     "output_type": "execute_result"
    }
   ],
   "source": [
    "# index summaries\n",
    "indexcounts = pd.DataFrame(indexfirmdf.conm.value_counts()).reset_index()\n",
    "indexcounts[\"target_number\"] = [600, 500, 400] \n",
    "indexcounts.columns = [\"index\", \"total_firms\", \"target_value_at_any_point\"]\n",
    "indexcounts[\"index composition turnover\"] = (indexcounts.total_firms - indexcounts.target_value_at_any_point) / indexcounts.target_value_at_any_point  \n",
    "indexcounts "
   ]
  },
  {
   "cell_type": "markdown",
   "metadata": {},
   "source": [
    "# Obtaining Firm Data & Financials <a id=financials></a>"
   ]
  },
  {
   "cell_type": "markdown",
   "metadata": {},
   "source": [
    "I obtain daily financial data on firm's stocks by using the CRSP database. I simply extract all tickers from the dataset above and upload them to WRDS. As noted, I query for data only from 2010 to today. "
   ]
  },
  {
   "cell_type": "code",
   "execution_count": 7,
   "metadata": {
    "collapsed": false
   },
   "outputs": [],
   "source": [
    "# export ticks for words\n",
    "np.savetxt('../data/firms/firmtics_500_400_600.txt',indexfirmdf.co_tic.values,  fmt='%s')"
   ]
  },
  {
   "cell_type": "code",
   "execution_count": 8,
   "metadata": {
    "code_folding": [
     0
    ],
    "collapsed": false
   },
   "outputs": [
    {
     "name": "stderr",
     "output_type": "stream",
     "text": [
      "C:\\Users\\nolefp\\AppData\\Roaming\\Python\\Python27\\site-packages\\IPython\\core\\interactiveshell.py:2723: DtypeWarning: Columns (5,6,9,48,56) have mixed types. Specify dtype option on import or set low_memory=False.\n",
      "  interactivity=interactivity, compiler=compiler, result=result)\n"
     ]
    }
   ],
   "source": [
    "# load CRSP export\n",
    "# choose which varibles to load\n",
    "vars_to_load = [u'PERMNO', u'date', u'NAMEENDT', u'SHRCD', u'EXCHCD', u'SICCD', \n",
    "                u'NCUSIP', u'TICKER', u'COMNAM', u'SHRCLS', u'TSYMBOL', \n",
    "                u'NAICS', u'PRC', u'VOL', u'RET', u'RETX', 'sprtrn', u'NUMTRD']\n",
    "financialdf = pd.read_csv(\"../data/financial data/crsp_400_600_500_2010_2015_all_var.csv\", usecols = vars_to_load)\n"
   ]
  },
  {
   "cell_type": "code",
   "execution_count": 9,
   "metadata": {
    "code_folding": [
     0
    ],
    "collapsed": false,
    "scrolled": true
   },
   "outputs": [],
   "source": [
    "# clean up first load\n",
    "\n",
    "# make everything lowercase\n",
    "financialdf.columns = [x.lower() for x in financialdf.columns]\n",
    "\n",
    "# convert date\n",
    "financialdf.date = pd.to_datetime(financialdf.date, format=\"%Y/%m/%d\", unit='D')"
   ]
  },
  {
   "cell_type": "markdown",
   "metadata": {},
   "source": [
    "One possible concern for calculating correlations is that different stocks might have been listed or de-listed in different periods. It is important that the stocks we look at are present throughout the entire period. "
   ]
  },
  {
   "cell_type": "code",
   "execution_count": 11,
   "metadata": {
    "code_folding": [
     0
    ],
    "collapsed": false
   },
   "outputs": [
    {
     "name": "stdout",
     "output_type": "stream",
     "text": [
      "Full range of dates:  2010-01-04  to  2015-12-31\n",
      "Total number of business days in range:  1563\n",
      "Unique dates in dataset:  1510    *this number being less than the total business days is likely due to holidays\n",
      "# Firms appearing on all dates in dataset:  1358\n"
     ]
    },
    {
     "data": {
      "image/png": "[encoded data removed]",
      "text/plain": [
       "<matplotlib.figure.Figure at 0x10aa12b0>"
      ]
     },
     "metadata": {},
     "output_type": "display_data"
    }
   ],
   "source": [
    "# check that all stocks are present on all dates in the dataset\n",
    "plt.grid()\n",
    "plt.title(\"Histogram of Number of Days Stocks Are Present in Sample\")\n",
    "plt.xlabel(\"Number of days firm stock present in data\")\n",
    "plt.ylabel(\"Count of firms\")\n",
    "plt.hist(financialdf.groupby(\"ticker\").date.nunique(), bins=20);\n",
    "\n",
    "print \"Full range of dates: \", financialdf.date.min().date(), \" to \", financialdf.date.max().date()\n",
    "print \"Total number of business days in range: \", np.busday_count(financialdf.date.min().date(), financialdf.date.max().date())\n",
    "print \"Unique dates in dataset: \", financialdf.date.nunique(), \"   *this number being less than the total business days is likely due to holidays\"\n",
    "print \"# Firms appearing on all dates in dataset: \", financialdf.groupby(\"ticker\").date.nunique()[financialdf.groupby(\"ticker\").date.nunique().values == 1510].count()"
   ]
  },
  {
   "cell_type": "markdown",
   "metadata": {},
   "source": [
    "We drop stocks that are not present for the total number of trading days."
   ]
  },
  {
   "cell_type": "code",
   "execution_count": 220,
   "metadata": {
    "collapsed": false
   },
   "outputs": [
    {
     "name": "stdout",
     "output_type": "stream",
     "text": [
      "# of remaining stocks:  1358\n"
     ]
    }
   ],
   "source": [
    "# drop stocks with gaps\n",
    "totaldays = financialdf.date.nunique()\n",
    "financialdf = financialdf.groupby(\"ticker\").filter(lambda x: x.date.nunique() >= totaldays)\n",
    "print \"# of remaining stocks: \", financialdf.ticker.nunique()"
   ]
  },
  {
   "cell_type": "markdown",
   "metadata": {},
   "source": []
  },
  {
   "cell_type": "markdown",
   "metadata": {},
   "source": [
    "# Get company concepts <a id=concepts></a>"
   ]
  },
  {
   "cell_type": "markdown",
   "metadata": {},
   "source": [
    "The goal here is to have a mapping between company stock tickers and all likely associated concept uri-s. The strategy is as follows:\n",
    "1. Get a list of company names from CRSP\n",
    "2. Create a dictionary mapping tickers and sets of possible company names\n",
    "3. Query EventRegistry for top Uri matches given the names in those sets\n",
    "4. End up with a dictionary mapping tickers to sets of associated Concept Uri-s"
   ]
  },
  {
   "cell_type": "markdown",
   "metadata": {},
   "source": [
    "## Get list of company names <a id=comnam></a>"
   ]
  },
  {
   "cell_type": "markdown",
   "metadata": {},
   "source": [
    "We use the COMNAM variable from CRSP to get company names. However, this isn't totally straightforward as it seems some companies changed their names throughout time or just happened to have different ticker-name pairs."
   ]
  },
  {
   "cell_type": "code",
   "execution_count": 29,
   "metadata": {
    "code_folding": [],
    "collapsed": false
   },
   "outputs": [
    {
     "name": "stdout",
     "output_type": "stream",
     "text": [
      "Total Unique Tickers:  1358\n",
      "Total Unique Names:  1458\n"
     ]
    }
   ],
   "source": [
    "# check ticker - name pairs\n",
    "print \"Total Unique Tickers: \", financialdf.ticker.nunique()\n",
    "print \"Total Unique Names: \", financialdf.comnam.nunique()"
   ]
  },
  {
   "cell_type": "markdown",
   "metadata": {
    "collapsed": false
   },
   "source": [
    "Let's check which tickers have multiple names and what those names are:"
   ]
  },
  {
   "cell_type": "code",
   "execution_count": 74,
   "metadata": {
    "collapsed": false
   },
   "outputs": [
    {
     "data": {
      "text/html": [
       "<div>\n",
       "<table border=\"1\" class=\"dataframe\">\n",
       "  <thead>\n",
       "    <tr style=\"text-align: right;\">\n",
       "      <th></th>\n",
       "      <th>comnam</th>\n",
       "    </tr>\n",
       "    <tr>\n",
       "      <th>ticker</th>\n",
       "      <th></th>\n",
       "    </tr>\n",
       "  </thead>\n",
       "  <tbody>\n",
       "    <tr>\n",
       "      <th>ACM</th>\n",
       "      <td>[A E C O M TECHNOLOGY CORP, A E C O M]</td>\n",
       "    </tr>\n",
       "    <tr>\n",
       "      <th>ADC</th>\n",
       "      <td>[ASTRO DRILLING CO, AGREE REALTY CORP]</td>\n",
       "    </tr>\n",
       "    <tr>\n",
       "      <th>ALEX</th>\n",
       "      <td>[ALEXANDER &amp; BALDWIN INC, ALEXANDER &amp; BALDWIN HLDGS INC, ALEXANDER &amp; BALDWIN INC NEW]</td>\n",
       "    </tr>\n",
       "    <tr>\n",
       "      <th>AMT</th>\n",
       "      <td>[AMERICAN TOWER CORP, AMERICAN TOWER CORP NEW]</td>\n",
       "    </tr>\n",
       "    <tr>\n",
       "      <th>AON</th>\n",
       "      <td>[AON CORP, AON PLC]</td>\n",
       "    </tr>\n",
       "    <tr>\n",
       "      <th>APOL</th>\n",
       "      <td>[APOLLO GROUP INC, APOLLO EDUCATION GROUP INC]</td>\n",
       "    </tr>\n",
       "    <tr>\n",
       "      <th>ARRS</th>\n",
       "      <td>[ARRIS GROUP INC, ARRIS GROUP INC NEW]</td>\n",
       "    </tr>\n",
       "    <tr>\n",
       "      <th>BIIB</th>\n",
       "      <td>[BIOGEN IDEC INC, BIOGEN INC]</td>\n",
       "    </tr>\n",
       "    <tr>\n",
       "      <th>CBG</th>\n",
       "      <td>[C B RICHARD ELLIS GROUP INC, C B R E GROUP INC]</td>\n",
       "    </tr>\n",
       "    <tr>\n",
       "      <th>CCE</th>\n",
       "      <td>[COCA COLA ENTERPRISES INC, COCA COLA ENTERPRISES INC NEW]</td>\n",
       "    </tr>\n",
       "    <tr>\n",
       "      <th>CCI</th>\n",
       "      <td>[CROWN CASTLE INTERNATIONAL CORP, CROWN CASTLE INTL CORP NEW]</td>\n",
       "    </tr>\n",
       "    <tr>\n",
       "      <th>CCOI</th>\n",
       "      <td>[COGENT COMMUNICATIONS GROUP INC, COGENT COMMUNICATIONS HLDS INC]</td>\n",
       "    </tr>\n",
       "    <tr>\n",
       "      <th>CDR</th>\n",
       "      <td>[CEDAR SHOPPING CENTERS INC, CEDAR REALTY TRUST INC]</td>\n",
       "    </tr>\n",
       "    <tr>\n",
       "      <th>CI</th>\n",
       "      <td>[C I G N A CORP, CIGNA CORP]</td>\n",
       "    </tr>\n",
       "    <tr>\n",
       "      <th>CNO</th>\n",
       "      <td>[CONSECO INC, C N O FINANCIAL GROUP INC]</td>\n",
       "    </tr>\n",
       "    <tr>\n",
       "      <th>CTL</th>\n",
       "      <td>[CENTURYTEL INC, CENTURYLINK INC]</td>\n",
       "    </tr>\n",
       "    <tr>\n",
       "      <th>CVS</th>\n",
       "      <td>[C V S CAREMARK CORP, C V S HEALTH CORP]</td>\n",
       "    </tr>\n",
       "    <tr>\n",
       "      <th>DAR</th>\n",
       "      <td>[DARLING INTERNATIONAL INC, DARLING INGREDIENTS INC]</td>\n",
       "    </tr>\n",
       "    <tr>\n",
       "      <th>DHX</th>\n",
       "      <td>[DICE HOLDINGS INC, D H I GROUP INC]</td>\n",
       "    </tr>\n",
       "    <tr>\n",
       "      <th>DV</th>\n",
       "      <td>[DEVRY INC DEL, DEVRY EDUCATION GROUP INC]</td>\n",
       "    </tr>\n",
       "    <tr>\n",
       "      <th>DVA</th>\n",
       "      <td>[DAVITA INC, DAVITA HEALTHCARE PARTNERS INC]</td>\n",
       "    </tr>\n",
       "    <tr>\n",
       "      <th>ECOL</th>\n",
       "      <td>[AMERICAN ECOLOGY CORP, U S ECOLOGY INC]</td>\n",
       "    </tr>\n",
       "    <tr>\n",
       "      <th>ENDP</th>\n",
       "      <td>[ENDO PHARMACEUTICALS HLDGS INC, ENDO HEALTH SOLUTIONS INC, ENDO INTERNATIONAL PLC]</td>\n",
       "    </tr>\n",
       "    <tr>\n",
       "      <th>ENR</th>\n",
       "      <td>[ENERGIZER HOLDINGS INC NEW, ENERGIZER HOLDINGS INC]</td>\n",
       "    </tr>\n",
       "    <tr>\n",
       "      <th>EPR</th>\n",
       "      <td>[ENTERTAINMENT PROPERTIES TRUST, E P R PROPERTIES]</td>\n",
       "    </tr>\n",
       "    <tr>\n",
       "      <th>ESRX</th>\n",
       "      <td>[EXPRESS SCRIPTS INC, EXPRESS SCRIPTS HOLDING CO]</td>\n",
       "    </tr>\n",
       "    <tr>\n",
       "      <th>ESV</th>\n",
       "      <td>[E N S C O INTL LTD, E N S C O PLC, E N S C O PLC NEW]</td>\n",
       "    </tr>\n",
       "    <tr>\n",
       "      <th>ETN</th>\n",
       "      <td>[EATON CORP, EATON CORP PLC]</td>\n",
       "    </tr>\n",
       "    <tr>\n",
       "      <th>FAF</th>\n",
       "      <td>[FIRST AMERICAN CORP CALIF, FIRST AMERICAN FINL CORP NEW]</td>\n",
       "    </tr>\n",
       "    <tr>\n",
       "      <th>FCX</th>\n",
       "      <td>[FREEPORT MCMORAN COPPER &amp; GOLD, FREEPORT MCMORAN INC]</td>\n",
       "    </tr>\n",
       "  </tbody>\n",
       "</table>\n",
       "</div>"
      ],
      "text/plain": [
       "                                                                                       comnam\n",
       "ticker                                                                                       \n",
       "ACM                                                    [A E C O M TECHNOLOGY CORP, A E C O M]\n",
       "ADC                                                    [ASTRO DRILLING CO, AGREE REALTY CORP]\n",
       "ALEX    [ALEXANDER & BALDWIN INC, ALEXANDER & BALDWIN HLDGS INC, ALEXANDER & BALDWIN INC NEW]\n",
       "AMT                                            [AMERICAN TOWER CORP, AMERICAN TOWER CORP NEW]\n",
       "AON                                                                       [AON CORP, AON PLC]\n",
       "APOL                                           [APOLLO GROUP INC, APOLLO EDUCATION GROUP INC]\n",
       "ARRS                                                   [ARRIS GROUP INC, ARRIS GROUP INC NEW]\n",
       "BIIB                                                            [BIOGEN IDEC INC, BIOGEN INC]\n",
       "CBG                                          [C B RICHARD ELLIS GROUP INC, C B R E GROUP INC]\n",
       "CCE                                [COCA COLA ENTERPRISES INC, COCA COLA ENTERPRISES INC NEW]\n",
       "CCI                             [CROWN CASTLE INTERNATIONAL CORP, CROWN CASTLE INTL CORP NEW]\n",
       "CCOI                        [COGENT COMMUNICATIONS GROUP INC, COGENT COMMUNICATIONS HLDS INC]\n",
       "CDR                                      [CEDAR SHOPPING CENTERS INC, CEDAR REALTY TRUST INC]\n",
       "CI                                                               [C I G N A CORP, CIGNA CORP]\n",
       "CNO                                                  [CONSECO INC, C N O FINANCIAL GROUP INC]\n",
       "CTL                                                         [CENTURYTEL INC, CENTURYLINK INC]\n",
       "CVS                                                  [C V S CAREMARK CORP, C V S HEALTH CORP]\n",
       "DAR                                      [DARLING INTERNATIONAL INC, DARLING INGREDIENTS INC]\n",
       "DHX                                                      [DICE HOLDINGS INC, D H I GROUP INC]\n",
       "DV                                                 [DEVRY INC DEL, DEVRY EDUCATION GROUP INC]\n",
       "DVA                                              [DAVITA INC, DAVITA HEALTHCARE PARTNERS INC]\n",
       "ECOL                                                 [AMERICAN ECOLOGY CORP, U S ECOLOGY INC]\n",
       "ENDP      [ENDO PHARMACEUTICALS HLDGS INC, ENDO HEALTH SOLUTIONS INC, ENDO INTERNATIONAL PLC]\n",
       "ENR                                      [ENERGIZER HOLDINGS INC NEW, ENERGIZER HOLDINGS INC]\n",
       "EPR                                        [ENTERTAINMENT PROPERTIES TRUST, E P R PROPERTIES]\n",
       "ESRX                                        [EXPRESS SCRIPTS INC, EXPRESS SCRIPTS HOLDING CO]\n",
       "ESV                                    [E N S C O INTL LTD, E N S C O PLC, E N S C O PLC NEW]\n",
       "ETN                                                              [EATON CORP, EATON CORP PLC]\n",
       "FAF                                 [FIRST AMERICAN CORP CALIF, FIRST AMERICAN FINL CORP NEW]\n",
       "FCX                                    [FREEPORT MCMORAN COPPER & GOLD, FREEPORT MCMORAN INC]"
      ]
     },
     "execution_count": 74,
     "metadata": {},
     "output_type": "execute_result"
    }
   ],
   "source": [
    "# get list of tickers with duplicate names\n",
    "diffnames = financialdf.groupby('ticker').comnam.unique()\n",
    "pd.DataFrame(diffnames[diffnames.apply(lambda x: len(x) > 1)]).head(30)"
   ]
  },
  {
   "cell_type": "markdown",
   "metadata": {},
   "source": [
    "OK, a visual inspection indicates that these tend to be small changes in phrasing. Nevertheless, we can take advantage of these and use all names in the set to query for uri-s. This is the approach we will take below. "
   ]
  },
  {
   "cell_type": "markdown",
   "metadata": {},
   "source": [
    "## Testing getConceptUri <a id=getconcept></a>"
   ]
  },
  {
   "cell_type": "markdown",
   "metadata": {},
   "source": [
    "Concept uri-s are how EventRegistry tags individual concepts and recognizes them across articles. Interestingly, they are wikipedia links, and as such also have crowdsourced hierarchical information attached. \n",
    "\n",
    "EventRegistry offers two functions to obtain concept uri-s. The first is \"getConceptUri\" which only returns the top link. We play around a bit to get a sense of how this works:"
   ]
  },
  {
   "cell_type": "code",
   "execution_count": 80,
   "metadata": {
    "code_folding": [
     0
    ],
    "collapsed": false,
    "scrolled": true
   },
   "outputs": [
    {
     "data": {
      "text/html": [
       "<div>\n",
       "<table border=\"1\" class=\"dataframe\">\n",
       "  <thead>\n",
       "    <tr style=\"text-align: right;\">\n",
       "      <th></th>\n",
       "      <th>Resulting Uri</th>\n",
       "    </tr>\n",
       "    <tr>\n",
       "      <th>Query</th>\n",
       "      <th></th>\n",
       "    </tr>\n",
       "  </thead>\n",
       "  <tbody>\n",
       "    <tr>\n",
       "      <th>COCA COLA ENTERPRISES INC</th>\n",
       "      <td>None</td>\n",
       "    </tr>\n",
       "    <tr>\n",
       "      <th>COCA COLA ENTERPRISES</th>\n",
       "      <td>http://en.wikipedia.org/wiki/Coca-Cola_Enterprises</td>\n",
       "    </tr>\n",
       "    <tr>\n",
       "      <th>COCA COLA INC</th>\n",
       "      <td>http://en.wikipedia.org/wiki/Coca-Cola_Bottlers_Philippines,_Inc.</td>\n",
       "    </tr>\n",
       "    <tr>\n",
       "      <th>COCA COLA</th>\n",
       "      <td>http://en.wikipedia.org/wiki/Coca-Cola</td>\n",
       "    </tr>\n",
       "  </tbody>\n",
       "</table>\n",
       "</div>"
      ],
      "text/plain": [
       "                                                                               Resulting Uri\n",
       "Query                                                                                       \n",
       "COCA COLA ENTERPRISES INC                                                               None\n",
       "COCA COLA ENTERPRISES                     http://en.wikipedia.org/wiki/Coca-Cola_Enterprises\n",
       "COCA COLA INC              http://en.wikipedia.org/wiki/Coca-Cola_Bottlers_Philippines,_Inc.\n",
       "COCA COLA                                             http://en.wikipedia.org/wiki/Coca-Cola"
      ]
     },
     "execution_count": 80,
     "metadata": {},
     "output_type": "execute_result"
    }
   ],
   "source": [
    "# coca-cola queries\n",
    "colaq = []\n",
    "queries = ['COCA COLA ENTERPRISES INC',  \n",
    "           'COCA COLA ENTERPRISES',\n",
    "           'COCA COLA INC',\n",
    "           'COCA COLA']\n",
    "for query in queries:\n",
    "    colaq.append([query, er.getConceptUri(query)])\n",
    "colaq = pd.DataFrame(colaq, columns = [\"Query\", \"Resulting Uri\"]).set_index(\"Query\")\n",
    "colaq"
   ]
  },
  {
   "cell_type": "code",
   "execution_count": 75,
   "metadata": {
    "code_folding": [
     0
    ],
    "collapsed": false,
    "scrolled": true
   },
   "outputs": [
    {
     "data": {
      "text/html": [
       "<div>\n",
       "<table border=\"1\" class=\"dataframe\">\n",
       "  <thead>\n",
       "    <tr style=\"text-align: right;\">\n",
       "      <th></th>\n",
       "      <th>Resulting Uri</th>\n",
       "    </tr>\n",
       "    <tr>\n",
       "      <th>Query</th>\n",
       "      <th></th>\n",
       "    </tr>\n",
       "  </thead>\n",
       "  <tbody>\n",
       "    <tr>\n",
       "      <th>DEVRY INC DEL</th>\n",
       "      <td>None</td>\n",
       "    </tr>\n",
       "    <tr>\n",
       "      <th>DEVRY INC</th>\n",
       "      <td>http://en.wikipedia.org/wiki/DeVry_Inc.</td>\n",
       "    </tr>\n",
       "    <tr>\n",
       "      <th>DEVRY DEL</th>\n",
       "      <td>None</td>\n",
       "    </tr>\n",
       "    <tr>\n",
       "      <th>DEVRY EDUCATION GROUP INC</th>\n",
       "      <td>None</td>\n",
       "    </tr>\n",
       "    <tr>\n",
       "      <th>DEVRY EDUCATION GROUP</th>\n",
       "      <td>http://en.wikipedia.org/wiki/DeVry_Education_Group</td>\n",
       "    </tr>\n",
       "    <tr>\n",
       "      <th>DEVRY EDUCATION INC</th>\n",
       "      <td>None</td>\n",
       "    </tr>\n",
       "    <tr>\n",
       "      <th>DEVRY EDUCATION</th>\n",
       "      <td>http://en.wikipedia.org/wiki/DeVry_Education_Group</td>\n",
       "    </tr>\n",
       "    <tr>\n",
       "      <th>DEVRY GROUP</th>\n",
       "      <td>http://en.wikipedia.org/wiki/DeVry_Education_Group</td>\n",
       "    </tr>\n",
       "    <tr>\n",
       "      <th>DEVRY</th>\n",
       "      <td>http://en.wikipedia.org/wiki/DeVry_University</td>\n",
       "    </tr>\n",
       "  </tbody>\n",
       "</table>\n",
       "</div>"
      ],
      "text/plain": [
       "                                                                Resulting Uri\n",
       "Query                                                                        \n",
       "DEVRY INC DEL                                                            None\n",
       "DEVRY INC                             http://en.wikipedia.org/wiki/DeVry_Inc.\n",
       "DEVRY DEL                                                                None\n",
       "DEVRY EDUCATION GROUP INC                                                None\n",
       "DEVRY EDUCATION GROUP      http://en.wikipedia.org/wiki/DeVry_Education_Group\n",
       "DEVRY EDUCATION INC                                                      None\n",
       "DEVRY EDUCATION            http://en.wikipedia.org/wiki/DeVry_Education_Group\n",
       "DEVRY GROUP                http://en.wikipedia.org/wiki/DeVry_Education_Group\n",
       "DEVRY                           http://en.wikipedia.org/wiki/DeVry_University"
      ]
     },
     "execution_count": 75,
     "metadata": {},
     "output_type": "execute_result"
    }
   ],
   "source": [
    "# devry queries\n",
    "q = []\n",
    "queries = ['DEVRY INC DEL',\n",
    "           'DEVRY INC',\n",
    "           'DEVRY DEL',\n",
    "           'DEVRY EDUCATION GROUP INC',\n",
    "           'DEVRY EDUCATION GROUP',\n",
    "           'DEVRY EDUCATION INC',\n",
    "           'DEVRY EDUCATION',\n",
    "           'DEVRY GROUP',\n",
    "           'DEVRY']\n",
    "\n",
    "for query in queries:\n",
    "    q.append([query, er.getConceptUri(query)])\n",
    "q = pd.DataFrame(q, columns = [\"Query\", \"Resulting Uri\"]).set_index(\"Query\")\n",
    "q"
   ]
  },
  {
   "cell_type": "code",
   "execution_count": 64,
   "metadata": {
    "code_folding": [
     0
    ],
    "collapsed": false,
    "scrolled": true
   },
   "outputs": [
    {
     "data": {
      "text/html": [
       "<div>\n",
       "<table border=\"1\" class=\"dataframe\">\n",
       "  <thead>\n",
       "    <tr style=\"text-align: right;\">\n",
       "      <th></th>\n",
       "      <th>Resulting Uri</th>\n",
       "    </tr>\n",
       "    <tr>\n",
       "      <th>Query</th>\n",
       "      <th></th>\n",
       "    </tr>\n",
       "  </thead>\n",
       "  <tbody>\n",
       "    <tr>\n",
       "      <th>C V S CAREMARK CORP</th>\n",
       "      <td>None</td>\n",
       "    </tr>\n",
       "    <tr>\n",
       "      <th>C V S CAREMARK</th>\n",
       "      <td>None</td>\n",
       "    </tr>\n",
       "    <tr>\n",
       "      <th>C V S CORP</th>\n",
       "      <td>None</td>\n",
       "    </tr>\n",
       "    <tr>\n",
       "      <th>C V S HEALTH CORP</th>\n",
       "      <td>None</td>\n",
       "    </tr>\n",
       "    <tr>\n",
       "      <th>C V S HEALTH</th>\n",
       "      <td>None</td>\n",
       "    </tr>\n",
       "    <tr>\n",
       "      <th>C V S</th>\n",
       "      <td>None</td>\n",
       "    </tr>\n",
       "    <tr>\n",
       "      <th>CVS</th>\n",
       "      <td>http://en.wikipedia.org/wiki/CVS_Pharmacy</td>\n",
       "    </tr>\n",
       "  </tbody>\n",
       "</table>\n",
       "</div>"
      ],
      "text/plain": [
       "                                                 Resulting Uri\n",
       "Query                                                         \n",
       "C V S CAREMARK CORP                                       None\n",
       "C V S CAREMARK                                            None\n",
       "C V S CORP                                                None\n",
       "C V S HEALTH CORP                                         None\n",
       "C V S HEALTH                                              None\n",
       "C V S                                                     None\n",
       "CVS                  http://en.wikipedia.org/wiki/CVS_Pharmacy"
      ]
     },
     "execution_count": 64,
     "metadata": {},
     "output_type": "execute_result"
    }
   ],
   "source": [
    "# cvs queries\n",
    "cvsq = []\n",
    "queries = ['C V S CAREMARK CORP', \n",
    "           'C V S CAREMARK',\n",
    "           'C V S CORP',\n",
    "           'C V S HEALTH CORP',\n",
    "           'C V S HEALTH',\n",
    "           'C V S',\n",
    "           'CVS']\n",
    "for query in queries:\n",
    "    cvsq.append([query, er.getConceptUri(query)])\n",
    "cvsq = pd.DataFrame(cvsq, columns = [\"Query\", \"Resulting Uri\"]).set_index(\"Query\")\n",
    "cvsq"
   ]
  },
  {
   "cell_type": "code",
   "execution_count": 85,
   "metadata": {
    "code_folding": [],
    "collapsed": false,
    "scrolled": false
   },
   "outputs": [
    {
     "data": {
      "text/html": [
       "<div>\n",
       "<table border=\"1\" class=\"dataframe\">\n",
       "  <thead>\n",
       "    <tr style=\"text-align: right;\">\n",
       "      <th></th>\n",
       "      <th>Resulting Uri</th>\n",
       "    </tr>\n",
       "    <tr>\n",
       "      <th>Query</th>\n",
       "      <th></th>\n",
       "    </tr>\n",
       "  </thead>\n",
       "  <tbody>\n",
       "    <tr>\n",
       "      <th>CVS CAREMARK CORP</th>\n",
       "      <td>None</td>\n",
       "    </tr>\n",
       "    <tr>\n",
       "      <th>CVS CAREMARK</th>\n",
       "      <td>http://en.wikipedia.org/wiki/CVS_Caremark</td>\n",
       "    </tr>\n",
       "    <tr>\n",
       "      <th>CVS CORP</th>\n",
       "      <td>None</td>\n",
       "    </tr>\n",
       "    <tr>\n",
       "      <th>CVS HEALTH CORP</th>\n",
       "      <td>None</td>\n",
       "    </tr>\n",
       "    <tr>\n",
       "      <th>CVS HEALTH</th>\n",
       "      <td>None</td>\n",
       "    </tr>\n",
       "    <tr>\n",
       "      <th>E N S C O INTL LTD</th>\n",
       "      <td>None</td>\n",
       "    </tr>\n",
       "    <tr>\n",
       "      <th>E N S C O INTL</th>\n",
       "      <td>None</td>\n",
       "    </tr>\n",
       "    <tr>\n",
       "      <th>E N S C O PLC</th>\n",
       "      <td>None</td>\n",
       "    </tr>\n",
       "    <tr>\n",
       "      <th>E N S C O PLC NEW</th>\n",
       "      <td>None</td>\n",
       "    </tr>\n",
       "    <tr>\n",
       "      <th>E N S C O</th>\n",
       "      <td>None</td>\n",
       "    </tr>\n",
       "    <tr>\n",
       "      <th>ENSCO INTL LTD</th>\n",
       "      <td>None</td>\n",
       "    </tr>\n",
       "    <tr>\n",
       "      <th>ENSCO INTL</th>\n",
       "      <td>None</td>\n",
       "    </tr>\n",
       "    <tr>\n",
       "      <th>ENSCO PLC</th>\n",
       "      <td>http://en.wikipedia.org/wiki/Ensco_plc</td>\n",
       "    </tr>\n",
       "    <tr>\n",
       "      <th>ENSCO PLC NEW</th>\n",
       "      <td>None</td>\n",
       "    </tr>\n",
       "    <tr>\n",
       "      <th>ENSCO</th>\n",
       "      <td>http://en.wikipedia.org/wiki/Ensco_plc</td>\n",
       "    </tr>\n",
       "    <tr>\n",
       "      <th>C I G N A CORP</th>\n",
       "      <td>None</td>\n",
       "    </tr>\n",
       "    <tr>\n",
       "      <th>CIGNA CORP</th>\n",
       "      <td>None</td>\n",
       "    </tr>\n",
       "    <tr>\n",
       "      <th>C I G N A</th>\n",
       "      <td>None</td>\n",
       "    </tr>\n",
       "    <tr>\n",
       "      <th>CIGNA</th>\n",
       "      <td>http://en.wikipedia.org/wiki/Cigna</td>\n",
       "    </tr>\n",
       "    <tr>\n",
       "      <th>C B RICHARD ELLIS GROUP INC</th>\n",
       "      <td>None</td>\n",
       "    </tr>\n",
       "    <tr>\n",
       "      <th>C B R E GROUP INC</th>\n",
       "      <td>None</td>\n",
       "    </tr>\n",
       "    <tr>\n",
       "      <th>CB RICHARD ELLIS GROUP INC</th>\n",
       "      <td>None</td>\n",
       "    </tr>\n",
       "    <tr>\n",
       "      <th>CBRE GROUP INC</th>\n",
       "      <td>None</td>\n",
       "    </tr>\n",
       "    <tr>\n",
       "      <th>C B RICHARD ELLIS GROUP</th>\n",
       "      <td>None</td>\n",
       "    </tr>\n",
       "    <tr>\n",
       "      <th>C B R E GROUP</th>\n",
       "      <td>None</td>\n",
       "    </tr>\n",
       "    <tr>\n",
       "      <th>CB RICHARD ELLIS GROUP</th>\n",
       "      <td>None</td>\n",
       "    </tr>\n",
       "    <tr>\n",
       "      <th>CBRE GROUP</th>\n",
       "      <td>http://en.wikipedia.org/wiki/CBRE_Group</td>\n",
       "    </tr>\n",
       "    <tr>\n",
       "      <th>C B RICHARD ELLIS</th>\n",
       "      <td>None</td>\n",
       "    </tr>\n",
       "    <tr>\n",
       "      <th>C B R E</th>\n",
       "      <td>None</td>\n",
       "    </tr>\n",
       "    <tr>\n",
       "      <th>CB RICHARD ELLIS</th>\n",
       "      <td>None</td>\n",
       "    </tr>\n",
       "    <tr>\n",
       "      <th>CBRE</th>\n",
       "      <td>http://en.wikipedia.org/wiki/CBRE_Group</td>\n",
       "    </tr>\n",
       "  </tbody>\n",
       "</table>\n",
       "</div>"
      ],
      "text/plain": [
       "                                                         Resulting Uri\n",
       "Query                                                                 \n",
       "CVS CAREMARK CORP                                                 None\n",
       "CVS CAREMARK                 http://en.wikipedia.org/wiki/CVS_Caremark\n",
       "CVS CORP                                                          None\n",
       "CVS HEALTH CORP                                                   None\n",
       "CVS HEALTH                                                        None\n",
       "E N S C O INTL LTD                                                None\n",
       "E N S C O INTL                                                    None\n",
       "E N S C O PLC                                                     None\n",
       "E N S C O PLC NEW                                                 None\n",
       "E N S C O                                                         None\n",
       "ENSCO INTL LTD                                                    None\n",
       "ENSCO INTL                                                        None\n",
       "ENSCO PLC                       http://en.wikipedia.org/wiki/Ensco_plc\n",
       "ENSCO PLC NEW                                                     None\n",
       "ENSCO                           http://en.wikipedia.org/wiki/Ensco_plc\n",
       "C I G N A CORP                                                    None\n",
       "CIGNA CORP                                                        None\n",
       "C I G N A                                                         None\n",
       "CIGNA                               http://en.wikipedia.org/wiki/Cigna\n",
       "C B RICHARD ELLIS GROUP INC                                       None\n",
       "C B R E GROUP INC                                                 None\n",
       "CB RICHARD ELLIS GROUP INC                                        None\n",
       "CBRE GROUP INC                                                    None\n",
       "C B RICHARD ELLIS GROUP                                           None\n",
       "C B R E GROUP                                                     None\n",
       "CB RICHARD ELLIS GROUP                                            None\n",
       "CBRE GROUP                     http://en.wikipedia.org/wiki/CBRE_Group\n",
       "C B RICHARD ELLIS                                                 None\n",
       "C B R E                                                           None\n",
       "CB RICHARD ELLIS                                                  None\n",
       "CBRE                           http://en.wikipedia.org/wiki/CBRE_Group"
      ]
     },
     "execution_count": 85,
     "metadata": {},
     "output_type": "execute_result"
    }
   ],
   "source": [
    "# test more abbreviations\n",
    "cvsq = []\n",
    "queries = ['CVS CAREMARK CORP', \n",
    "           'CVS CAREMARK',\n",
    "           'CVS CORP',\n",
    "           'CVS HEALTH CORP',\n",
    "           'CVS HEALTH',\n",
    "           'E N S C O INTL LTD', \n",
    "           'E N S C O INTL', \n",
    "           'E N S C O PLC', \n",
    "           'E N S C O PLC NEW',\n",
    "           'E N S C O',\n",
    "           'ENSCO INTL LTD', \n",
    "           'ENSCO INTL', \n",
    "           'ENSCO PLC', \n",
    "           'ENSCO PLC NEW',\n",
    "           'ENSCO',\n",
    "           'C I G N A CORP', \n",
    "           'CIGNA CORP',\n",
    "           'C I G N A', \n",
    "           'CIGNA',\n",
    "           'C B RICHARD ELLIS GROUP INC', \n",
    "           'C B R E GROUP INC',\n",
    "           'CB RICHARD ELLIS GROUP INC', \n",
    "           'CBRE GROUP INC',\n",
    "           'C B RICHARD ELLIS GROUP', \n",
    "           'C B R E GROUP',\n",
    "           'CB RICHARD ELLIS GROUP', \n",
    "           'CBRE GROUP',\n",
    "           'C B RICHARD ELLIS', \n",
    "           'C B R E',\n",
    "           'CB RICHARD ELLIS', \n",
    "           'CBRE']\n",
    "           \n",
    "for query in queries:\n",
    "    cvsq.append([query, er.getConceptUri(query)])\n",
    "cvsq = pd.DataFrame(cvsq, columns = [\"Query\", \"Resulting Uri\"]).set_index(\"Query\")\n",
    "cvsq"
   ]
  },
  {
   "cell_type": "code",
   "execution_count": 84,
   "metadata": {
    "code_folding": [
     0
    ],
    "collapsed": false
   },
   "outputs": [
    {
     "data": {
      "text/html": [
       "<div>\n",
       "<table border=\"1\" class=\"dataframe\">\n",
       "  <thead>\n",
       "    <tr style=\"text-align: right;\">\n",
       "      <th></th>\n",
       "      <th>Resulting Uri</th>\n",
       "    </tr>\n",
       "    <tr>\n",
       "      <th>Query</th>\n",
       "      <th></th>\n",
       "    </tr>\n",
       "  </thead>\n",
       "  <tbody>\n",
       "    <tr>\n",
       "      <th>cvs caremark corp</th>\n",
       "      <td>None</td>\n",
       "    </tr>\n",
       "    <tr>\n",
       "      <th>cvs caremark</th>\n",
       "      <td>http://en.wikipedia.org/wiki/CVS_Caremark</td>\n",
       "    </tr>\n",
       "    <tr>\n",
       "      <th>cvs corp</th>\n",
       "      <td>None</td>\n",
       "    </tr>\n",
       "    <tr>\n",
       "      <th>cvs health corp</th>\n",
       "      <td>None</td>\n",
       "    </tr>\n",
       "    <tr>\n",
       "      <th>cvs health</th>\n",
       "      <td>None</td>\n",
       "    </tr>\n",
       "    <tr>\n",
       "      <th>e n s c o intl ltd</th>\n",
       "      <td>None</td>\n",
       "    </tr>\n",
       "    <tr>\n",
       "      <th>e n s c o intl</th>\n",
       "      <td>None</td>\n",
       "    </tr>\n",
       "    <tr>\n",
       "      <th>e n s c o plc</th>\n",
       "      <td>None</td>\n",
       "    </tr>\n",
       "    <tr>\n",
       "      <th>e n s c o plc new</th>\n",
       "      <td>None</td>\n",
       "    </tr>\n",
       "    <tr>\n",
       "      <th>e n s c o</th>\n",
       "      <td>None</td>\n",
       "    </tr>\n",
       "    <tr>\n",
       "      <th>ensco intl ltd</th>\n",
       "      <td>None</td>\n",
       "    </tr>\n",
       "    <tr>\n",
       "      <th>ensco intl</th>\n",
       "      <td>None</td>\n",
       "    </tr>\n",
       "    <tr>\n",
       "      <th>ensco plc</th>\n",
       "      <td>http://en.wikipedia.org/wiki/Ensco_plc</td>\n",
       "    </tr>\n",
       "    <tr>\n",
       "      <th>ensco plc new</th>\n",
       "      <td>None</td>\n",
       "    </tr>\n",
       "    <tr>\n",
       "      <th>ensco</th>\n",
       "      <td>http://en.wikipedia.org/wiki/Ensco_plc</td>\n",
       "    </tr>\n",
       "    <tr>\n",
       "      <th>c i g n a corp</th>\n",
       "      <td>None</td>\n",
       "    </tr>\n",
       "    <tr>\n",
       "      <th>cigna corp</th>\n",
       "      <td>None</td>\n",
       "    </tr>\n",
       "    <tr>\n",
       "      <th>c i g n a</th>\n",
       "      <td>None</td>\n",
       "    </tr>\n",
       "    <tr>\n",
       "      <th>cigna</th>\n",
       "      <td>http://en.wikipedia.org/wiki/Cigna</td>\n",
       "    </tr>\n",
       "  </tbody>\n",
       "</table>\n",
       "</div>"
      ],
      "text/plain": [
       "                                                Resulting Uri\n",
       "Query                                                        \n",
       "cvs caremark corp                                        None\n",
       "cvs caremark        http://en.wikipedia.org/wiki/CVS_Caremark\n",
       "cvs corp                                                 None\n",
       "cvs health corp                                          None\n",
       "cvs health                                               None\n",
       "e n s c o intl ltd                                       None\n",
       "e n s c o intl                                           None\n",
       "e n s c o plc                                            None\n",
       "e n s c o plc new                                        None\n",
       "e n s c o                                                None\n",
       "ensco intl ltd                                           None\n",
       "ensco intl                                               None\n",
       "ensco plc              http://en.wikipedia.org/wiki/Ensco_plc\n",
       "ensco plc new                                            None\n",
       "ensco                  http://en.wikipedia.org/wiki/Ensco_plc\n",
       "c i g n a corp                                           None\n",
       "cigna corp                                               None\n",
       "c i g n a                                                None\n",
       "cigna                      http://en.wikipedia.org/wiki/Cigna"
      ]
     },
     "execution_count": 84,
     "metadata": {},
     "output_type": "execute_result"
    }
   ],
   "source": [
    "# check if lower vs. upper caps make a difference\n",
    "cvsq = []\n",
    "queries = ['CVS CAREMARK CORP', \n",
    "           'CVS CAREMARK',\n",
    "           'CVS CORP',\n",
    "           'CVS HEALTH CORP',\n",
    "           'CVS HEALTH',\n",
    "           'E N S C O INTL LTD', \n",
    "           'E N S C O INTL', \n",
    "           'E N S C O PLC', \n",
    "           'E N S C O PLC NEW',\n",
    "           'E N S C O',\n",
    "           'ENSCO INTL LTD', \n",
    "           'ENSCO INTL', \n",
    "           'ENSCO PLC', \n",
    "           'ENSCO PLC NEW',\n",
    "           'ENSCO',\n",
    "           'C I G N A CORP', \n",
    "           'CIGNA CORP',\n",
    "           'C I G N A', \n",
    "           'CIGNA']\n",
    "           \n",
    "for query in queries:\n",
    "    query = query.lower()\n",
    "    cvsq.append([query, er.getConceptUri(query)])\n",
    "cvsq = pd.DataFrame(cvsq, columns = [\"Query\", \"Resulting Uri\"]).set_index(\"Query\")\n",
    "cvsq"
   ]
  },
  {
   "cell_type": "markdown",
   "metadata": {},
   "source": [
    "It seems like two things would greatly increase the accuracy of the matches:\n",
    "1. get rid of words like INC and CORP (I believe Y&I do this as well).\n",
    "2. join acronyms together\n",
    "\n",
    "It also seems not to matter whether terms are upper or lower cap."
   ]
  },
  {
   "cell_type": "markdown",
   "metadata": {},
   "source": [
    "## Ticker-name dictionary <a id=namesdict></a>"
   ]
  },
  {
   "cell_type": "markdown",
   "metadata": {},
   "source": [
    "My approach for removing things like \"inc\", \"corp\", etc, will be to:\n",
    "1. change all terms to lower cap\n",
    "2. create a dictionary with tickers as keys and sets of company names as values\n",
    "3. count the number of times individual terms appear in all the company names\n",
    "4. manually screen through the top terms for anything that should probably actually be kept, select the rest for removal\n",
    "5. add to each ticker's set of company names a version of the same names except with the selected terms removed"
   ]
  },
  {
   "cell_type": "code",
   "execution_count": 243,
   "metadata": {
    "code_folding": [
     0
    ],
    "collapsed": false
   },
   "outputs": [],
   "source": [
    "# create initialize ticker-name dictionary \n",
    "\n",
    "# change all terms to lower cap\n",
    "namesdict = diffnames.to_dict()\n",
    "\n",
    "# change arrays to lowercase sets\n",
    "for ticker, names in namesdict.items():\n",
    "    lowercase = set()\n",
    "    for name in names:\n",
    "        lowercase.add(name.lower())\n",
    "    namesdict[ticker] = lowercase\n",
    "    \n",
    "#namesdict"
   ]
  },
  {
   "cell_type": "code",
   "execution_count": 244,
   "metadata": {
    "code_folding": [],
    "collapsed": false
   },
   "outputs": [
    {
     "data": {
      "text/plain": [
       "[('inc', 851),\n",
       " ('corp', 377),\n",
       " ('co', 110),\n",
       " ('new', 92),\n",
       " ('group', 78),\n",
       " ('&', 67),\n",
       " ('international', 50),\n",
       " ('c', 48),\n",
       " ('financial', 41),\n",
       " ('energy', 36),\n",
       " ('s', 35),\n",
       " ('holdings', 33),\n",
       " ('industries', 30),\n",
       " ('m', 29),\n",
       " ('a', 29),\n",
       " ('systems', 29),\n",
       " ('t', 27),\n",
       " ('e', 26),\n",
       " ('technologies', 25),\n",
       " ('ltd', 23),\n",
       " ('i', 23),\n",
       " ('bancorp', 22),\n",
       " ('p', 21),\n",
       " ('b', 21),\n",
       " ('n', 19)]"
      ]
     },
     "execution_count": 244,
     "metadata": {},
     "output_type": "execute_result"
    }
   ],
   "source": [
    "# figure out which terms to exclude\n",
    "from collections import Counter\n",
    "\n",
    "# get a list of all terms\n",
    "allwords = []\n",
    "for ticker, names in namesdict.items():\n",
    "    for name in names:\n",
    "        allwords.extend(name.split())\n",
    "\n",
    "Counter(allwords).most_common(25)"
   ]
  },
  {
   "cell_type": "markdown",
   "metadata": {},
   "source": [
    "I remove the following terms: inc, corp, co, ltd, plc. We can explore later whether it might be judicious to remove more terms. "
   ]
  },
  {
   "cell_type": "code",
   "execution_count": 245,
   "metadata": {
    "code_folding": [
     0
    ],
    "collapsed": false
   },
   "outputs": [],
   "source": [
    "# remove uneccesary terms\n",
    "for ticker, names in namesdict.items():\n",
    "    new_names = set()\n",
    "    for name in names:\n",
    "        new_names.add(name)\n",
    "        new_names.add(re.sub(r\"\\b((inc)|(corp)|(co)|(ltd)|(plc))\\b\",\"\", name).strip())\n",
    "    namesdict[ticker] = new_names\n",
    "\n",
    "# also remove 'group', but separately, sometimes it helps\n",
    "for ticker, names in namesdict.items():\n",
    "    new_names = set()\n",
    "    for name in names:\n",
    "        new_names.add(name)\n",
    "        new_names.add(re.sub(r\"\\b(group)\\b\",\"\", name).strip())\n",
    "    namesdict[ticker] = new_names\n",
    "    \n",
    "# also remove 'new', but separately, sometimes it helps\n",
    "for ticker, names in namesdict.items():\n",
    "    new_names = set()\n",
    "    for name in names:\n",
    "        new_names.add(name)\n",
    "        new_names.add(re.sub(r\"\\b(new)\\b\",\"\", name).strip())\n",
    "    namesdict[ticker] = new_names"
   ]
  },
  {
   "cell_type": "markdown",
   "metadata": {},
   "source": [
    "Next, I concatenate all abbreviations:"
   ]
  },
  {
   "cell_type": "code",
   "execution_count": 246,
   "metadata": {
    "code_folding": [
     0
    ],
    "collapsed": false
   },
   "outputs": [],
   "source": [
    "# join abbreviations\n",
    "for ticker, names in namesdict.items():\n",
    "    new_names = set()\n",
    "    for name in names:\n",
    "        new_names.add(name)\n",
    "        new_names.add(regex.sub(r\"(?<=\\b[a-z])[ ](?=[a-z]\\b)\",\"\", name))\n",
    "    namesdict[ticker] = new_names"
   ]
  },
  {
   "cell_type": "markdown",
   "metadata": {},
   "source": [
    "Ok, cool, we are ready to rumble! Let's take a look at the final dictionary and our total count of requests (hopefully not more than 10,000!):"
   ]
  },
  {
   "cell_type": "code",
   "execution_count": 357,
   "metadata": {
    "code_folding": [],
    "collapsed": false
   },
   "outputs": [
    {
     "name": "stdout",
     "output_type": "stream",
     "text": [
      "Total names to Query:  3426\n"
     ]
    },
    {
     "data": {
      "text/plain": [
       "{'ACET': {'aceto', 'aceto corp'},\n",
       " 'CPB': {'campbell soup', 'campbell soup co'},\n",
       " 'CPF': {'central pacific financial', 'central pacific financial corp'},\n",
       " 'CPT': {'camden property trust'},\n",
       " 'EOG': {'eog resources', 'eog resources inc'},\n",
       " 'EXAR': {'exar', 'exar corp'},\n",
       " 'EXLS': {'exlservice holdings', 'exlservice holdings inc'},\n",
       " 'IDXX': {'i d e x x laboratories',\n",
       "  'i d e x x laboratories inc',\n",
       "  'idexx laboratories',\n",
       "  'idexx laboratories inc'},\n",
       " 'JBHT': {'hunt j b transport services',\n",
       "  'hunt j b transport services inc',\n",
       "  'hunt jb transport services',\n",
       "  'hunt jb transport services inc'},\n",
       " 'JWN': {'nordstrom', 'nordstrom inc'},\n",
       " 'KLIC': {'kulicke & soffa inds', 'kulicke & soffa inds inc'},\n",
       " 'KRC': {'kilroy realty', 'kilroy realty corp'},\n",
       " 'LGND': {'ligand pharmaceuticals', 'ligand pharmaceuticals inc'},\n",
       " 'LSTR': {'landstar system', 'landstar system inc'},\n",
       " 'NDSN': {'nordson', 'nordson corp'},\n",
       " 'PHM': {'pulte',\n",
       "  'pulte  inc',\n",
       "  'pulte group',\n",
       "  'pulte group inc',\n",
       "  'pulte homes',\n",
       "  'pulte homes inc'},\n",
       " 'PKY': {'parkway properties', 'parkway properties inc'},\n",
       " 'RECN': {'resources connection', 'resources connection inc'},\n",
       " 'ROG': {'rogers', 'rogers corp'},\n",
       " 'ROIC': {'retail opportunity invst', 'retail opportunity invst corp'},\n",
       " 'RYN': {'rayonier', 'rayonier  new', 'rayonier inc', 'rayonier inc new'},\n",
       " 'SIG': {'signet jewelers', 'signet jewelers ltd'},\n",
       " 'VSAT': {'viasat', 'viasat inc'},\n",
       " 'WAT': {'waters', 'waters corp'},\n",
       " 'WOR': {'worthington industries', 'worthington industries inc'}}"
      ]
     },
     "execution_count": 357,
     "metadata": {},
     "output_type": "execute_result"
    }
   ],
   "source": [
    "# take a peek\n",
    "total = 0\n",
    "for ticker, names in namesdict.items():\n",
    "    total += len(names)\n",
    "\n",
    "print \"Total names to Query: \", total\n",
    "{k: namesdict[k] for k in namesdict.keys()[:25]}"
   ]
  },
  {
   "cell_type": "markdown",
   "metadata": {},
   "source": [
    "## Testing suggestConcepts <a id=suggestconcepts></a>"
   ]
  },
  {
   "cell_type": "markdown",
   "metadata": {},
   "source": [
    "We now quickly explore the \"suggestConcepts\" function of EventRegistry. There is no reason for us to only query one article for each company, so let's see how we might most fruitfully query multiple, *relevant*, articles at once. First, let's query for coca-cola:"
   ]
  },
  {
   "cell_type": "code",
   "execution_count": 208,
   "metadata": {
    "code_folding": [],
    "collapsed": false,
    "scrolled": true
   },
   "outputs": [
    {
     "data": {
      "text/plain": [
       "[{u'id': u'39131',\n",
       "  u'label': {u'eng': u'Coca-Cola'},\n",
       "  u'score': 103290,\n",
       "  u'type': u'wiki',\n",
       "  u'uri': u'http://en.wikipedia.org/wiki/Coca-Cola'},\n",
       " {u'id': u'95230',\n",
       "  u'label': {u'eng': u'The Coca-Cola Company'},\n",
       "  u'score': 11229,\n",
       "  u'type': u'org',\n",
       "  u'uri': u'http://en.wikipedia.org/wiki/The_Coca-Cola_Company'},\n",
       " {u'id': u'357107',\n",
       "  u'label': {u'eng': u'Coca-Cola 600'},\n",
       "  u'score': 3821,\n",
       "  u'type': u'wiki',\n",
       "  u'uri': u'http://en.wikipedia.org/wiki/Coca-Cola_600'},\n",
       " {u'id': u'174873',\n",
       "  u'label': {u'eng': u'Coca-Cola Zero'},\n",
       "  u'score': 2083,\n",
       "  u'type': u'wiki',\n",
       "  u'uri': u'http://en.wikipedia.org/wiki/Coca-Cola_Zero'},\n",
       " {u'id': u'38274',\n",
       "  u'label': {u'eng': u'Coca-Cola Amatil'},\n",
       "  u'score': 1546,\n",
       "  u'type': u'org',\n",
       "  u'uri': u'http://en.wikipedia.org/wiki/Coca-Cola_Amatil'},\n",
       " {u'id': u'186235',\n",
       "  u'label': {u'eng': u'Coca-Cola Enterprises'},\n",
       "  u'score': 1084,\n",
       "  u'type': u'org',\n",
       "  u'uri': u'http://en.wikipedia.org/wiki/Coca-Cola_Enterprises'},\n",
       " {u'id': u'1660880',\n",
       "  u'label': {u'eng': u'Coca-Cola'},\n",
       "  u'score': 1029,\n",
       "  u'type': u'wiki',\n",
       "  u'uri': u'http://ru.wikipedia.org/wiki/Coca-Cola'},\n",
       " {u'id': u'490549',\n",
       "  u'label': {u'eng': u'Coca-Cola Hellenic'},\n",
       "  u'score': 642,\n",
       "  u'type': u'wiki',\n",
       "  u'uri': u'http://en.wikipedia.org/wiki/Coca-Cola_Hellenic'},\n",
       " {u'id': u'97559',\n",
       "  u'label': {u'eng': u'Coca-Cola Cherry'},\n",
       "  u'score': 528,\n",
       "  u'type': u'wiki',\n",
       "  u'uri': u'http://en.wikipedia.org/wiki/Coca-Cola_Cherry'},\n",
       " {u'id': u'408982',\n",
       "  u'label': {u'eng': u'Coca-Cola Park (Allentown)'},\n",
       "  u'score': 469,\n",
       "  u'type': u'wiki',\n",
       "  u'uri': u'http://en.wikipedia.org/wiki/Coca-Cola_Park_(Allentown)'},\n",
       " {u'id': u'162802',\n",
       "  u'label': {u'eng': u'Coca-Cola Field'},\n",
       "  u'score': 382,\n",
       "  u'type': u'wiki',\n",
       "  u'uri': u'http://en.wikipedia.org/wiki/Coca-Cola_Field'},\n",
       " {u'id': u'368800',\n",
       "  u'label': {u'eng': u'World of Coca-Cola'},\n",
       "  u'score': 323,\n",
       "  u'type': u'wiki',\n",
       "  u'uri': u'http://en.wikipedia.org/wiki/World_of_Coca-Cola'},\n",
       " {u'id': u'310027',\n",
       "  u'label': {u'eng': u'List of Coca-Cola brands'},\n",
       "  u'score': 286,\n",
       "  u'type': u'wiki',\n",
       "  u'uri': u'http://en.wikipedia.org/wiki/List_of_Coca-Cola_brands'},\n",
       " {u'id': u'1268982',\n",
       "  u'label': {u'eng': u'Coca-Cola Bottling Co. Consolidated'},\n",
       "  u'score': 280,\n",
       "  u'type': u'org',\n",
       "  u'uri': u'http://en.wikipedia.org/wiki/Coca-Cola_Bottling_Co._Consolidated'},\n",
       " {u'id': u'389744',\n",
       "  u'label': {u'eng': u'Coca-Cola formula'},\n",
       "  u'score': 175,\n",
       "  u'type': u'wiki',\n",
       "  u'uri': u'http://en.wikipedia.org/wiki/Coca-Cola_formula'},\n",
       " {u'id': u'1324598',\n",
       "  u'label': {u'eng': u'Coca-Cola FEMSA'},\n",
       "  u'score': 125,\n",
       "  u'type': u'wiki',\n",
       "  u'uri': u'http://en.wikipedia.org/wiki/FEMSA#Coca-Cola_FEMSA'},\n",
       " {u'id': u'419347',\n",
       "  u'label': {u'eng': u'Copa Coca-Cola'},\n",
       "  u'score': 110,\n",
       "  u'type': u'wiki',\n",
       "  u'uri': u'http://es.wikipedia.org/wiki/Copa_Coca-Cola'},\n",
       " {u'id': u'950597',\n",
       "  u'label': {u'eng': u'Coca Cola West Red Sparks'},\n",
       "  u'score': 99,\n",
       "  u'type': u'wiki',\n",
       "  u'uri': u'http://en.wikipedia.org/wiki/Coca_Cola_West_Red_Sparks'},\n",
       " {u'id': u'266053',\n",
       "  u'label': {u'eng': u'List of Coca-Cola buildings and structures'},\n",
       "  u'score': 89,\n",
       "  u'type': u'wiki',\n",
       "  u'uri': u'http://en.wikipedia.org/wiki/List_of_Coca-Cola_buildings_and_structures'},\n",
       " {u'id': u'1273497',\n",
       "  u'label': {u'eng': u'Coca-Cola sign'},\n",
       "  u'score': 87,\n",
       "  u'type': u'wiki',\n",
       "  u'uri': u'http://en.wikipedia.org/wiki/Coca-Cola_sign'}]"
      ]
     },
     "execution_count": 208,
     "metadata": {},
     "output_type": "execute_result"
    }
   ],
   "source": [
    "# get coca cola concepts\n",
    "cc_concepts = er.suggestConcepts(\"coca cola\")\n",
    "cc_concepts"
   ]
  },
  {
   "cell_type": "markdown",
   "metadata": {},
   "source": [
    "The above results can be categorized as follows:\n",
    "- companies related to or owned by coca-cola (useful, easy to extract)\n",
    "- coca cola products (useful, hard to extract)\n",
    "- random wikipedia articles about coca cola, which, if identified in the news, could bear economic significance (useful, hard to extract)\n",
    "- random wikipedia articles about coca cola, which, if identified in the news, would be unlikely to bear economic significance (not useful, hard to exract)\n",
    "\n",
    "The one useful and easy to extract category is \"organizations\" or companies... We will take advantage of this later... Let us explore one more large corporation, \"General Mills\":"
   ]
  },
  {
   "cell_type": "code",
   "execution_count": 209,
   "metadata": {
    "code_folding": [
     0
    ],
    "collapsed": false
   },
   "outputs": [
    {
     "data": {
      "text/plain": [
       "[{u'id': u'20400',\n",
       "  u'label': {u'eng': u'Goldman Sachs'},\n",
       "  u'score': 162268,\n",
       "  u'type': u'org',\n",
       "  u'uri': u'http://en.wikipedia.org/wiki/Goldman_Sachs'},\n",
       " {u'id': u'234252',\n",
       "  u'label': {u'eng': u'Goldman Sachs Capital Partners'},\n",
       "  u'score': 209,\n",
       "  u'type': u'org',\n",
       "  u'uri': u'http://en.wikipedia.org/wiki/Goldman_Sachs_Capital_Partners'}]"
      ]
     },
     "execution_count": 209,
     "metadata": {},
     "output_type": "execute_result"
    }
   ],
   "source": [
    "# get GM concepts\n",
    "gm_concepts = er.suggestConcepts(\"goldman sachs\")\n",
    "gm_concepts"
   ]
  },
  {
   "cell_type": "markdown",
   "metadata": {},
   "source": [
    "Less total results, but similar categories of results. Lastly, let us explore a very different type of firm, a financial firm:"
   ]
  },
  {
   "cell_type": "code",
   "execution_count": 210,
   "metadata": {
    "code_folding": [
     0
    ],
    "collapsed": false
   },
   "outputs": [
    {
     "data": {
      "text/plain": [
       "[{u'id': u'20400',\n",
       "  u'label': {u'eng': u'Goldman Sachs'},\n",
       "  u'score': 162268,\n",
       "  u'type': u'org',\n",
       "  u'uri': u'http://en.wikipedia.org/wiki/Goldman_Sachs'},\n",
       " {u'id': u'234252',\n",
       "  u'label': {u'eng': u'Goldman Sachs Capital Partners'},\n",
       "  u'score': 209,\n",
       "  u'type': u'org',\n",
       "  u'uri': u'http://en.wikipedia.org/wiki/Goldman_Sachs_Capital_Partners'}]"
      ]
     },
     "execution_count": 210,
     "metadata": {},
     "output_type": "execute_result"
    }
   ],
   "source": [
    "# get goldman sachs concepts\n",
    "gs_concepts = er.suggestConcepts(\"goldman sachs\")\n",
    "gs_concepts"
   ]
  },
  {
   "cell_type": "markdown",
   "metadata": {},
   "source": [
    "## Exploring concept info <a id=conceptinfo></a>"
   ]
  },
  {
   "cell_type": "markdown",
   "metadata": {},
   "source": [
    "It seems evident that we are better off querying for multiple concepts using suggestconcepturi instead of just one. However, it also evident that we need a better way of finding which concepts should really matter. In order to do that, we explore conceptinfo tags next, to see what we might be able to use to our advantage.\n",
    "\n",
    "Because they are large, well known, and yet very different firms, we explore Coca-Cola and Goldman Sachs:"
   ]
  },
  {
   "cell_type": "code",
   "execution_count": 211,
   "metadata": {
    "code_folding": [
     0
    ],
    "collapsed": false
   },
   "outputs": [],
   "source": [
    "# define what info we are interested in\n",
    "conceptflags = ConceptInfoFlags(type = \"concepts\",lang = \"eng\",label = False,synonyms = False,image = False,\n",
    "                 description = False,details = False,conceptClassMembership = True,\n",
    "                 conceptClassMembershipFull = True,conceptFolderMembership = True,trendingScore = False,\n",
    "                 trendingHistory = False,trendingSource = \"news\")"
   ]
  },
  {
   "cell_type": "code",
   "execution_count": null,
   "metadata": {
    "code_folding": [
     0
    ],
    "collapsed": false,
    "scrolled": true
   },
   "outputs": [],
   "source": [
    "# update goldman sachs info\n",
    "for i, concept in enumerate(gs_concepts):\n",
    "    concept.update(er.getConceptInfo(concept['uri'], returnInfo= ReturnInfo(conceptInfo = conceptflags))[concept['uri']])\n",
    "gs_concepts"
   ]
  },
  {
   "cell_type": "code",
   "execution_count": null,
   "metadata": {
    "code_folding": [
     0
    ],
    "collapsed": false,
    "scrolled": false
   },
   "outputs": [],
   "source": [
    "# update coca cola info\n",
    "for concept in cc_concepts:\n",
    "    concept.update(er.getConceptInfo(concept['uri'], returnInfo= ReturnInfo(conceptInfo = conceptflags))[concept['uri']])\n",
    "cc_concepts"
   ]
  },
  {
   "cell_type": "markdown",
   "metadata": {},
   "source": [
    "It appears that the conceptClassMembership could be used to find concepts which are *products* of the companies we are querying. This would be pretty cool, as it could add to the reach of our co-occurence graph in a likely significant way. Let's see what we get with Apple:"
   ]
  },
  {
   "cell_type": "code",
   "execution_count": null,
   "metadata": {
    "code_folding": [
     0
    ],
    "collapsed": false
   },
   "outputs": [],
   "source": [
    "# checking out apple\n",
    "i_concepts = er.suggestConcepts(\"apple\")\n",
    "i_concepts\n",
    "\n",
    "for concept in i_concepts:\n",
    "    concept.update(er.getConceptInfo(concept['uri'], returnInfo= ReturnInfo(conceptInfo = conceptflags))[concept['uri']])\n",
    "i_concepts"
   ]
  },
  {
   "cell_type": "markdown",
   "metadata": {},
   "source": [
    "OK, for now, it seems like just filter on type='org' is the most efficient and holistic way of getting relevant concepts. Let's move on and finally get these uri-s.   "
   ]
  },
  {
   "cell_type": "markdown",
   "metadata": {},
   "source": [
    "## Ticker-uri dictionary <a id=ticdict></a>"
   ]
  },
  {
   "cell_type": "markdown",
   "metadata": {},
   "source": [
    "Essentially, what I do here, is get all the uri-s that might apply to a ticker based on all the names we have made for it... Let's run a test before we waste 3000 requests..."
   ]
  },
  {
   "cell_type": "code",
   "execution_count": 251,
   "metadata": {
    "code_folding": [],
    "collapsed": false
   },
   "outputs": [
    {
     "name": "stdout",
     "output_type": "stream",
     "text": [
      "Wall time: 48.6 s\n"
     ]
    }
   ],
   "source": [
    "%%time\n",
    "# run test version, 5 tickers\n",
    "uridict = {}\n",
    "i=0\n",
    "\n",
    "# we add the test to see what happens when no concepts are found\n",
    "for ticker, nameset in ([(\"TEST\", [\"asdvboasdjhvbzh\"])] + namesdict.items()):\n",
    "    ticker_uris_dict = {}\n",
    "    for name in nameset:\n",
    "        concepts = er.suggestConcepts(name)\n",
    "        for concept in concepts:\n",
    "            if concept['uri'] not in ticker_uris_dict:\n",
    "                ticker_uris_dict[concept['uri']] = concept\n",
    "    uridict[ticker] = ticker_uris_dict\n",
    "    \n",
    "    i += 1\n",
    "    if i == 4:\n",
    "        break"
   ]
  },
  {
   "cell_type": "code",
   "execution_count": 252,
   "metadata": {
    "collapsed": false
   },
   "outputs": [
    {
     "data": {
      "text/plain": [
       "{'NDSN': {u'http://en.wikipedia.org/wiki/Nordson_Corporation': {u'id': u'1307928',\n",
       "   u'label': {u'eng': u'Nordson Corporation'},\n",
       "   u'score': 285,\n",
       "   u'type': u'org',\n",
       "   u'uri': u'http://en.wikipedia.org/wiki/Nordson_Corporation'}},\n",
       " 'PKY': {u'http://en.wikipedia.org/wiki/Parkway_Properties': {u'id': u'1669686',\n",
       "   u'label': {u'eng': u'Parkway Properties'},\n",
       "   u'score': 128,\n",
       "   u'type': u'org',\n",
       "   u'uri': u'http://en.wikipedia.org/wiki/Parkway_Properties'}},\n",
       " 'RYN': {u'http://en.wikipedia.org/wiki/Rayonier': {u'id': u'105755',\n",
       "   u'label': {u'eng': u'Rayonier'},\n",
       "   u'score': 1156,\n",
       "   u'type': u'org',\n",
       "   u'uri': u'http://en.wikipedia.org/wiki/Rayonier'}},\n",
       " 'TEST': {}}"
      ]
     },
     "execution_count": 252,
     "metadata": {},
     "output_type": "execute_result"
    }
   ],
   "source": [
    "uridict"
   ]
  },
  {
   "cell_type": "markdown",
   "metadata": {},
   "source": [
    "OK. That looks like it is working. Entries that have no matches will simply have empty dictionaries, which is pretty easy to query for later, so let's do this, wahoo! "
   ]
  },
  {
   "cell_type": "code",
   "execution_count": 253,
   "metadata": {
    "collapsed": false
   },
   "outputs": [
    {
     "name": "stdout",
     "output_type": "stream",
     "text": [
      "Wall time: 39min 42s\n"
     ]
    }
   ],
   "source": [
    "%%time\n",
    "uridict = {}\n",
    "for ticker, nameset in namesdict.items():\n",
    "    ticker_uris_dict = {}\n",
    "    for name in nameset:\n",
    "        concepts = er.suggestConcepts(name)\n",
    "        for concept in concepts:\n",
    "            if concept['uri'] not in ticker_uris_dict:\n",
    "                ticker_uris_dict[concept['uri']] = concept\n",
    "    uridict[ticker] = ticker_uris_dict"
   ]
  },
  {
   "cell_type": "code",
   "execution_count": 254,
   "metadata": {
    "collapsed": true
   },
   "outputs": [],
   "source": [
    "# we save the results as a json file to preserve the information structure\n",
    "\"\"\"\n",
    "with open('../data/uridict.json', 'w') as fp:\n",
    "    json.dump(uridict, fp, indent=4)\n",
    "\"\"\";\n",
    "\n",
    "with open('../data/uridict.json', 'r') as fp:\n",
    "    uridict = json.load(fp)\n"
   ]
  },
  {
   "cell_type": "markdown",
   "metadata": {},
   "source": [
    "## Analyzing uri yields"
   ]
  },
  {
   "cell_type": "code",
   "execution_count": 302,
   "metadata": {
    "code_folding": [
     0
    ],
    "collapsed": false
   },
   "outputs": [
    {
     "name": "stdout",
     "output_type": "stream",
     "text": [
      "Total number of tickers:  1358\n",
      "Number of tickers with no uri:  459\n",
      "Rough Yield: 66.20%\n"
     ]
    }
   ],
   "source": [
    "# get some yield summarty stats\n",
    "ticker_uri_counts = []\n",
    "for ticker, uridicts in uridict.items():\n",
    "    ticker_uri_counts.append([ticker, len(uridicts)])\n",
    "uricounts = pd.DataFrame(ticker_uri_counts, columns=[\"Ticker\",\"Uri Count\"])\n",
    "uricounts.set_index('Ticker', inplace=1)\n",
    "\n",
    "print \"Total number of tickers: \", len(uricounts.index)\n",
    "print \"Number of tickers with no uri: \", uricounts['Uri Count'].value_counts().loc[0,]\n",
    "yield_ = 100 * (float(len(uricounts.index)) - uricounts['Uri Count'].value_counts().loc[0,]) / len(uricounts.index)\n",
    "print \"Rough Yield: {:,.2f}%\".format(yield_)"
   ]
  },
  {
   "cell_type": "code",
   "execution_count": 277,
   "metadata": {
    "code_folding": [
     0
    ],
    "collapsed": false
   },
   "outputs": [
    {
     "data": {
      "image/png": "[encoded data removed]",
      "text/plain": [
       "<matplotlib.figure.Figure at 0x105877f0>"
      ]
     },
     "metadata": {},
     "output_type": "display_data"
    }
   ],
   "source": [
    "# plot hist\n",
    "plt.grid()\n",
    "plbt.title(\"Distribution of returned Uri-s per Ticker\")\n",
    "sns.distplot(uricounts, norm_hist=False, bins=60)"
   ]
  },
  {
   "cell_type": "code",
   "execution_count": 318,
   "metadata": {
    "code_folding": [],
    "collapsed": false,
    "scrolled": true
   },
   "outputs": [
    {
     "data": {
      "text/html": [
       "<div>\n",
       "<table border=\"1\" class=\"dataframe\">\n",
       "  <thead>\n",
       "    <tr style=\"text-align: right;\">\n",
       "      <th></th>\n",
       "      <th>Count of Tickers</th>\n",
       "    </tr>\n",
       "    <tr>\n",
       "      <th>Number of uri-s assigned to Ticker</th>\n",
       "      <th></th>\n",
       "    </tr>\n",
       "  </thead>\n",
       "  <tbody>\n",
       "    <tr>\n",
       "      <th>1</th>\n",
       "      <td>473</td>\n",
       "    </tr>\n",
       "    <tr>\n",
       "      <th>0</th>\n",
       "      <td>459</td>\n",
       "    </tr>\n",
       "    <tr>\n",
       "      <th>2</th>\n",
       "      <td>104</td>\n",
       "    </tr>\n",
       "    <tr>\n",
       "      <th>20</th>\n",
       "      <td>77</td>\n",
       "    </tr>\n",
       "    <tr>\n",
       "      <th>3</th>\n",
       "      <td>43</td>\n",
       "    </tr>\n",
       "    <tr>\n",
       "      <th>4</th>\n",
       "      <td>32</td>\n",
       "    </tr>\n",
       "    <tr>\n",
       "      <th>5</th>\n",
       "      <td>24</td>\n",
       "    </tr>\n",
       "    <tr>\n",
       "      <th>21</th>\n",
       "      <td>22</td>\n",
       "    </tr>\n",
       "    <tr>\n",
       "      <th>8</th>\n",
       "      <td>15</td>\n",
       "    </tr>\n",
       "    <tr>\n",
       "      <th>7</th>\n",
       "      <td>13</td>\n",
       "    </tr>\n",
       "  </tbody>\n",
       "</table>\n",
       "</div>"
      ],
      "text/plain": [
       "                                    Count of Tickers\n",
       "Number of uri-s assigned to Ticker                  \n",
       "1                                                473\n",
       "0                                                459\n",
       "2                                                104\n",
       "20                                                77\n",
       "3                                                 43\n",
       "4                                                 32\n",
       "5                                                 24\n",
       "21                                                22\n",
       "8                                                 15\n",
       "7                                                 13"
      ]
     },
     "execution_count": 318,
     "metadata": {},
     "output_type": "execute_result"
    }
   ],
   "source": [
    "# show exact table of distribution\n",
    "distribution = pd.DataFrame(uricounts['Uri Count'].value_counts())\n",
    "distribution.reset_index(inplace=1)\n",
    "distribution.columns = [[\"Number of uri-s assigned to Ticker\", \"Count of Tickers\"]]\n",
    "distribution.set_index(\"Number of uri-s assigned to Ticker\",inplace=1)\n",
    "distribution.head(10)"
   ]
  },
  {
   "cell_type": "markdown",
   "metadata": {},
   "source": [
    "1. this is great! In the first pilot test that I did, my yield was about 38 associated tickers out of 300, so we have made this whole process about 6 times more effective, and raised the yield from about 10% to 66% by doing some simple company name cleaning.\n",
    "\n",
    "2. The distribution makes sense. The default limit on return URI-s, which I left in place during this process, is 20 uri-s. As such, it makes sense that we would have a bimodal distribution. The only way you can have more than 20 results is if two different names yield different uri-s. \n",
    "\n",
    "3. Let's move on to examine this to some more detail:"
   ]
  },
  {
   "cell_type": "code",
   "execution_count": 355,
   "metadata": {
    "collapsed": false
   },
   "outputs": [
    {
     "name": "stdout",
     "output_type": "stream",
     "text": [
      "> \u001b[1;32mc:\\users\\nolefp\\dropbox\\senior year\\information in financial markets\\final paper\\notebooks\\pandas\\src\\inference.pyx\u001b[0m(598)\u001b[0;36mpandas.lib.maybe_convert_numeric (pandas\\lib.c:53719)\u001b[1;34m()\u001b[0m\n",
      "\n",
      "ipdb> \n",
      "ipdb> \n",
      "ipdb> next\n"
     ]
    },
    {
     "ename": "ValueError",
     "evalue": "Unable to parse string",
     "output_type": "error",
     "traceback": [
      "\u001b[1;31m---------------------------------------------------------------------------\u001b[0m",
      "\u001b[1;31mValueError\u001b[0m                                Traceback (most recent call last)",
      "\u001b[1;32m<ipython-input-355-2f0a38f48baa>\u001b[0m in \u001b[0;36m<module>\u001b[1;34m()\u001b[0m\n\u001b[0;32m      5\u001b[0m \u001b[0msic\u001b[0m\u001b[1;33m[\u001b[0m\u001b[1;34m\"SIC2\"\u001b[0m\u001b[1;33m]\u001b[0m \u001b[1;33m=\u001b[0m \u001b[0mpd\u001b[0m\u001b[1;33m.\u001b[0m\u001b[0mto_numeric\u001b[0m\u001b[1;33m(\u001b[0m\u001b[0msic\u001b[0m\u001b[1;33m.\u001b[0m\u001b[0mHSICCD\u001b[0m\u001b[1;33m)\u001b[0m\u001b[1;33m\u001b[0m\u001b[0m\n\u001b[0;32m      6\u001b[0m \u001b[0msic\u001b[0m\u001b[1;33m[\u001b[0m\u001b[1;34m\"SIC2\"\u001b[0m\u001b[1;33m]\u001b[0m \u001b[1;33m=\u001b[0m \u001b[0msic\u001b[0m\u001b[1;33m.\u001b[0m\u001b[0mSIC2\u001b[0m\u001b[1;33m.\u001b[0m\u001b[0mastype\u001b[0m\u001b[1;33m(\u001b[0m\u001b[1;34m'str'\u001b[0m\u001b[1;33m)\u001b[0m\u001b[1;33m.\u001b[0m\u001b[0mstr\u001b[0m\u001b[1;33m[\u001b[0m\u001b[1;33m:\u001b[0m\u001b[1;36m2\u001b[0m\u001b[1;33m]\u001b[0m\u001b[1;33m\u001b[0m\u001b[0m\n\u001b[1;32m----> 7\u001b[1;33m \u001b[0msic\u001b[0m\u001b[1;33m[\u001b[0m\u001b[1;34m\"SIC2\"\u001b[0m\u001b[1;33m]\u001b[0m \u001b[1;33m=\u001b[0m \u001b[0mpd\u001b[0m\u001b[1;33m.\u001b[0m\u001b[0mto_numeric\u001b[0m\u001b[1;33m(\u001b[0m\u001b[0msic\u001b[0m\u001b[1;33m.\u001b[0m\u001b[0mSIC2\u001b[0m\u001b[1;33m)\u001b[0m\u001b[1;33m\u001b[0m\u001b[0m\n\u001b[0m",
      "\u001b[1;32mC:\\Users\\nolefp\\Anaconda\\lib\\site-packages\\pandas\\tools\\util.pyc\u001b[0m in \u001b[0;36mto_numeric\u001b[1;34m(arg, errors)\u001b[0m\n\u001b[0;32m     96\u001b[0m         conv = lib.maybe_convert_numeric(arg,\n\u001b[0;32m     97\u001b[0m                                          \u001b[0mset\u001b[0m\u001b[1;33m(\u001b[0m\u001b[1;33m)\u001b[0m\u001b[1;33m,\u001b[0m\u001b[1;33m\u001b[0m\u001b[0m\n\u001b[1;32m---> 98\u001b[1;33m                                          coerce_numeric=coerce_numeric)\n\u001b[0m\u001b[0;32m     99\u001b[0m     \u001b[1;32mexcept\u001b[0m\u001b[1;33m:\u001b[0m\u001b[1;33m\u001b[0m\u001b[0m\n\u001b[0;32m    100\u001b[0m         \u001b[1;32mif\u001b[0m \u001b[0merrors\u001b[0m \u001b[1;33m==\u001b[0m \u001b[1;34m'raise'\u001b[0m\u001b[1;33m:\u001b[0m\u001b[1;33m\u001b[0m\u001b[0m\n",
      "\u001b[1;32mpandas\\src\\inference.pyx\u001b[0m in \u001b[0;36mpandas.lib.maybe_convert_numeric (pandas\\lib.c:53932)\u001b[1;34m()\u001b[0m\n",
      "\u001b[1;32mpandas\\src\\inference.pyx\u001b[0m in \u001b[0;36mpandas.lib.maybe_convert_numeric (pandas\\lib.c:53719)\u001b[1;34m()\u001b[0m\n",
      "\u001b[1;31mValueError\u001b[0m: Unable to parse string"
     ]
    }
   ],
   "source": [
    "%debug\n",
    "# get industry classifications\n",
    "sic = pd.read_csv('../data/financial/crsp_400_600_500_2010_2015_all_var.csv', usecols=[\"TICKER\",\"HSICCD\"])\n",
    "sic = sic.drop_duplicates(\"TICKER\")\n",
    "sic[\"SIC2\"] = pd.to_numeric(sic.HSICCD)\n",
    "sic[\"SIC2\"] = sic.SIC2.astype('str').str[:2]\n",
    "sic[\"SIC2\"]\n",
    "\n",
    "SIC Classes:\n",
    "010999\tAgriculture, Forestry and Fishing\n",
    "1000-1499\tMining\n",
    "1500-1799\tConstruction\n",
    "1800-1999\tnot used\n",
    "2000-3999\tManufacturing\n",
    "4000-4999\tTransportation, Communications, Electric, Gas and Sanitary service\n",
    "5000-5199\tWholesale Trade\n",
    "5200-5999\tRetail Trade\n",
    "6000-6799\tFinance, Insurance and Real Estate\n",
    "7000-8999\tServices\n",
    "9100-9729\tPublic Administration\n",
    "9900-9999\tNonclassifiable"
   ]
  },
  {
   "cell_type": "code",
   "execution_count": 337,
   "metadata": {
    "collapsed": false
   },
   "outputs": [
    {
     "data": {
      "text/html": [
       "<div>\n",
       "<table border=\"1\" class=\"dataframe\">\n",
       "  <thead>\n",
       "    <tr style=\"text-align: right;\">\n",
       "      <th></th>\n",
       "      <th>Uri Count</th>\n",
       "      <th>comnames</th>\n",
       "    </tr>\n",
       "    <tr>\n",
       "      <th>Ticker</th>\n",
       "      <th></th>\n",
       "      <th></th>\n",
       "    </tr>\n",
       "  </thead>\n",
       "  <tbody>\n",
       "    <tr>\n",
       "      <th>RYN</th>\n",
       "      <td>1</td>\n",
       "      <td>[RAYONIER INC NEW]</td>\n",
       "    </tr>\n",
       "    <tr>\n",
       "      <th>NDSN</th>\n",
       "      <td>1</td>\n",
       "      <td>[NORDSON CORP]</td>\n",
       "    </tr>\n",
       "    <tr>\n",
       "      <th>BMI</th>\n",
       "      <td>0</td>\n",
       "      <td>[BADGER METER INC]</td>\n",
       "    </tr>\n",
       "    <tr>\n",
       "      <th>EOG</th>\n",
       "      <td>1</td>\n",
       "      <td>[EOG RESOURCES INC]</td>\n",
       "    </tr>\n",
       "    <tr>\n",
       "      <th>LSTR</th>\n",
       "      <td>1</td>\n",
       "      <td>[LANDSTAR SYSTEM INC]</td>\n",
       "    </tr>\n",
       "    <tr>\n",
       "      <th>VSAT</th>\n",
       "      <td>18</td>\n",
       "      <td>[VIASAT INC]</td>\n",
       "    </tr>\n",
       "    <tr>\n",
       "      <th>CRS</th>\n",
       "      <td>1</td>\n",
       "      <td>[CARPENTER TECHNOLOGY CORP]</td>\n",
       "    </tr>\n",
       "    <tr>\n",
       "      <th>CPB</th>\n",
       "      <td>3</td>\n",
       "      <td>[CAMPBELL SOUP CO]</td>\n",
       "    </tr>\n",
       "    <tr>\n",
       "      <th>EXLS</th>\n",
       "      <td>0</td>\n",
       "      <td>[EXLSERVICE HOLDINGS INC]</td>\n",
       "    </tr>\n",
       "    <tr>\n",
       "      <th>CPF</th>\n",
       "      <td>0</td>\n",
       "      <td>[CENTRAL PACIFIC FINANCIAL CORP]</td>\n",
       "    </tr>\n",
       "    <tr>\n",
       "      <th>AMD</th>\n",
       "      <td>2</td>\n",
       "      <td>[ADVANCED MICRO DEVICES INC]</td>\n",
       "    </tr>\n",
       "    <tr>\n",
       "      <th>IDXX</th>\n",
       "      <td>1</td>\n",
       "      <td>[I D E X X LABORATORIES INC]</td>\n",
       "    </tr>\n",
       "    <tr>\n",
       "      <th>SIG</th>\n",
       "      <td>1</td>\n",
       "      <td>[SIGNET JEWELERS LTD]</td>\n",
       "    </tr>\n",
       "    <tr>\n",
       "      <th>JWN</th>\n",
       "      <td>5</td>\n",
       "      <td>[NORDSTROM INC]</td>\n",
       "    </tr>\n",
       "    <tr>\n",
       "      <th>CR</th>\n",
       "      <td>32</td>\n",
       "      <td>[CRANE CO]</td>\n",
       "    </tr>\n",
       "    <tr>\n",
       "      <th>JBHT</th>\n",
       "      <td>0</td>\n",
       "      <td>[HUNT J B TRANSPORT SERVICES INC]</td>\n",
       "    </tr>\n",
       "    <tr>\n",
       "      <th>CPT</th>\n",
       "      <td>1</td>\n",
       "      <td>[CAMDEN PROPERTY TRUST]</td>\n",
       "    </tr>\n",
       "    <tr>\n",
       "      <th>BCPC</th>\n",
       "      <td>0</td>\n",
       "      <td>[BALCHEM CORP]</td>\n",
       "    </tr>\n",
       "    <tr>\n",
       "      <th>ACET</th>\n",
       "      <td>20</td>\n",
       "      <td>[ACETO CORP]</td>\n",
       "    </tr>\n",
       "    <tr>\n",
       "      <th>ROIC</th>\n",
       "      <td>0</td>\n",
       "      <td>[RETAIL OPPORTUNITY INVST CORP]</td>\n",
       "    </tr>\n",
       "    <tr>\n",
       "      <th>WRLD</th>\n",
       "      <td>1</td>\n",
       "      <td>[WORLD ACCEPTANCE CORP]</td>\n",
       "    </tr>\n",
       "    <tr>\n",
       "      <th>MANT</th>\n",
       "      <td>1</td>\n",
       "      <td>[MANTECH INTERNATIONAL CORP]</td>\n",
       "    </tr>\n",
       "    <tr>\n",
       "      <th>AVAV</th>\n",
       "      <td>7</td>\n",
       "      <td>[AEROVIRONMENT INC]</td>\n",
       "    </tr>\n",
       "    <tr>\n",
       "      <th>QLGC</th>\n",
       "      <td>1</td>\n",
       "      <td>[QLOGIC CORP]</td>\n",
       "    </tr>\n",
       "    <tr>\n",
       "      <th>MDRX</th>\n",
       "      <td>0</td>\n",
       "      <td>[ALLSCRIPTS MISYS HEALTHCARE SOLS, ALLSCRIPTS HEALTHCARE SOLNS INC]</td>\n",
       "    </tr>\n",
       "    <tr>\n",
       "      <th>NILE</th>\n",
       "      <td>8</td>\n",
       "      <td>[BLUE NILE INC]</td>\n",
       "    </tr>\n",
       "    <tr>\n",
       "      <th>VRTX</th>\n",
       "      <td>1</td>\n",
       "      <td>[VERTEX PHARMACEUTICALS INC]</td>\n",
       "    </tr>\n",
       "    <tr>\n",
       "      <th>BWA</th>\n",
       "      <td>2</td>\n",
       "      <td>[BORGWARNER INC]</td>\n",
       "    </tr>\n",
       "    <tr>\n",
       "      <th>SPN</th>\n",
       "      <td>0</td>\n",
       "      <td>[SUPERIOR ENERGY SERVICES INC]</td>\n",
       "    </tr>\n",
       "    <tr>\n",
       "      <th>MANH</th>\n",
       "      <td>1</td>\n",
       "      <td>[MANHATTAN ASSOCIATES INC]</td>\n",
       "    </tr>\n",
       "    <tr>\n",
       "      <th>...</th>\n",
       "      <td>...</td>\n",
       "      <td>...</td>\n",
       "    </tr>\n",
       "    <tr>\n",
       "      <th>ROL</th>\n",
       "      <td>20</td>\n",
       "      <td>[ROLLINS INC]</td>\n",
       "    </tr>\n",
       "    <tr>\n",
       "      <th>CNL</th>\n",
       "      <td>1</td>\n",
       "      <td>[CLECO CORP NEW]</td>\n",
       "    </tr>\n",
       "    <tr>\n",
       "      <th>ESL</th>\n",
       "      <td>0</td>\n",
       "      <td>[ESTERLINE TECHNOLOGIES CORP]</td>\n",
       "    </tr>\n",
       "    <tr>\n",
       "      <th>TROW</th>\n",
       "      <td>0</td>\n",
       "      <td>[T ROWE PRICE GROUP INC]</td>\n",
       "    </tr>\n",
       "    <tr>\n",
       "      <th>ISRG</th>\n",
       "      <td>1</td>\n",
       "      <td>[INTUITIVE SURGICAL INC]</td>\n",
       "    </tr>\n",
       "    <tr>\n",
       "      <th>ESI</th>\n",
       "      <td>0</td>\n",
       "      <td>[I T T EDUCATIONAL SERVICES INC]</td>\n",
       "    </tr>\n",
       "    <tr>\n",
       "      <th>PLUS</th>\n",
       "      <td>0</td>\n",
       "      <td>[EPLUS INC]</td>\n",
       "    </tr>\n",
       "    <tr>\n",
       "      <th>HHS</th>\n",
       "      <td>1</td>\n",
       "      <td>[HARTE HANKS INC]</td>\n",
       "    </tr>\n",
       "    <tr>\n",
       "      <th>SMCI</th>\n",
       "      <td>0</td>\n",
       "      <td>[SUPER MICRO COMPUTER INC]</td>\n",
       "    </tr>\n",
       "    <tr>\n",
       "      <th>BDX</th>\n",
       "      <td>0</td>\n",
       "      <td>[BECTON DICKINSON &amp; CO]</td>\n",
       "    </tr>\n",
       "    <tr>\n",
       "      <th>IPXL</th>\n",
       "      <td>1</td>\n",
       "      <td>[IMPAX LABORATORIES INC]</td>\n",
       "    </tr>\n",
       "    <tr>\n",
       "      <th>PFE</th>\n",
       "      <td>7</td>\n",
       "      <td>[PFIZER INC]</td>\n",
       "    </tr>\n",
       "    <tr>\n",
       "      <th>NKE</th>\n",
       "      <td>20</td>\n",
       "      <td>[NIKE INC]</td>\n",
       "    </tr>\n",
       "    <tr>\n",
       "      <th>PFG</th>\n",
       "      <td>1</td>\n",
       "      <td>[PRINCIPAL FINANCIAL GROUP INC]</td>\n",
       "    </tr>\n",
       "    <tr>\n",
       "      <th>MCS</th>\n",
       "      <td>21</td>\n",
       "      <td>[MARCUS CORP]</td>\n",
       "    </tr>\n",
       "    <tr>\n",
       "      <th>CRR</th>\n",
       "      <td>0</td>\n",
       "      <td>[CARBO CERAMICS INC]</td>\n",
       "    </tr>\n",
       "    <tr>\n",
       "      <th>MRTN</th>\n",
       "      <td>0</td>\n",
       "      <td>[MARTEN TRANSPORT LTD]</td>\n",
       "    </tr>\n",
       "    <tr>\n",
       "      <th>RTN</th>\n",
       "      <td>10</td>\n",
       "      <td>[RAYTHEON CO]</td>\n",
       "    </tr>\n",
       "    <tr>\n",
       "      <th>IILG</th>\n",
       "      <td>0</td>\n",
       "      <td>[INTERVAL LEISURE GROUP INC]</td>\n",
       "    </tr>\n",
       "    <tr>\n",
       "      <th>KELYA</th>\n",
       "      <td>1</td>\n",
       "      <td>[KELLY SERVICES INC]</td>\n",
       "    </tr>\n",
       "    <tr>\n",
       "      <th>HPY</th>\n",
       "      <td>1</td>\n",
       "      <td>[HEARTLAND PAYMENT SYSTEMS INC]</td>\n",
       "    </tr>\n",
       "    <tr>\n",
       "      <th>PFS</th>\n",
       "      <td>0</td>\n",
       "      <td>[PROVIDENT FINANCIAL SVCS INC]</td>\n",
       "    </tr>\n",
       "    <tr>\n",
       "      <th>ARRS</th>\n",
       "      <td>5</td>\n",
       "      <td>[ARRIS GROUP INC, ARRIS GROUP INC NEW]</td>\n",
       "    </tr>\n",
       "    <tr>\n",
       "      <th>CNP</th>\n",
       "      <td>2</td>\n",
       "      <td>[CENTERPOINT ENERGY INC]</td>\n",
       "    </tr>\n",
       "    <tr>\n",
       "      <th>VSI</th>\n",
       "      <td>1</td>\n",
       "      <td>[VITAMIN SHOPPE INC]</td>\n",
       "    </tr>\n",
       "    <tr>\n",
       "      <th>NWBI</th>\n",
       "      <td>0</td>\n",
       "      <td>[NORTHWEST BANCSHARES INC]</td>\n",
       "    </tr>\n",
       "    <tr>\n",
       "      <th>NR</th>\n",
       "      <td>0</td>\n",
       "      <td>[NEWPARK RESOURCES INC]</td>\n",
       "    </tr>\n",
       "    <tr>\n",
       "      <th>AN</th>\n",
       "      <td>0</td>\n",
       "      <td>[AUTONATION INC DEL]</td>\n",
       "    </tr>\n",
       "    <tr>\n",
       "      <th>PCTI</th>\n",
       "      <td>1</td>\n",
       "      <td>[P C TEL INC]</td>\n",
       "    </tr>\n",
       "    <tr>\n",
       "      <th>CECO</th>\n",
       "      <td>5</td>\n",
       "      <td>[CAREER EDUCATION CORP]</td>\n",
       "    </tr>\n",
       "  </tbody>\n",
       "</table>\n",
       "<p>1358 rows × 2 columns</p>\n",
       "</div>"
      ],
      "text/plain": [
       "        Uri Count                                                             comnames\n",
       "Ticker                                                                                \n",
       "RYN             1                                                   [RAYONIER INC NEW]\n",
       "NDSN            1                                                       [NORDSON CORP]\n",
       "BMI             0                                                   [BADGER METER INC]\n",
       "EOG             1                                                  [EOG RESOURCES INC]\n",
       "LSTR            1                                                [LANDSTAR SYSTEM INC]\n",
       "VSAT           18                                                         [VIASAT INC]\n",
       "CRS             1                                          [CARPENTER TECHNOLOGY CORP]\n",
       "CPB             3                                                   [CAMPBELL SOUP CO]\n",
       "EXLS            0                                            [EXLSERVICE HOLDINGS INC]\n",
       "CPF             0                                     [CENTRAL PACIFIC FINANCIAL CORP]\n",
       "AMD             2                                         [ADVANCED MICRO DEVICES INC]\n",
       "IDXX            1                                         [I D E X X LABORATORIES INC]\n",
       "SIG             1                                                [SIGNET JEWELERS LTD]\n",
       "JWN             5                                                      [NORDSTROM INC]\n",
       "CR             32                                                           [CRANE CO]\n",
       "JBHT            0                                    [HUNT J B TRANSPORT SERVICES INC]\n",
       "CPT             1                                              [CAMDEN PROPERTY TRUST]\n",
       "BCPC            0                                                       [BALCHEM CORP]\n",
       "ACET           20                                                         [ACETO CORP]\n",
       "ROIC            0                                      [RETAIL OPPORTUNITY INVST CORP]\n",
       "WRLD            1                                              [WORLD ACCEPTANCE CORP]\n",
       "MANT            1                                         [MANTECH INTERNATIONAL CORP]\n",
       "AVAV            7                                                  [AEROVIRONMENT INC]\n",
       "QLGC            1                                                        [QLOGIC CORP]\n",
       "MDRX            0  [ALLSCRIPTS MISYS HEALTHCARE SOLS, ALLSCRIPTS HEALTHCARE SOLNS INC]\n",
       "NILE            8                                                      [BLUE NILE INC]\n",
       "VRTX            1                                         [VERTEX PHARMACEUTICALS INC]\n",
       "BWA             2                                                     [BORGWARNER INC]\n",
       "SPN             0                                       [SUPERIOR ENERGY SERVICES INC]\n",
       "MANH            1                                           [MANHATTAN ASSOCIATES INC]\n",
       "...           ...                                                                  ...\n",
       "ROL            20                                                        [ROLLINS INC]\n",
       "CNL             1                                                     [CLECO CORP NEW]\n",
       "ESL             0                                        [ESTERLINE TECHNOLOGIES CORP]\n",
       "TROW            0                                             [T ROWE PRICE GROUP INC]\n",
       "ISRG            1                                             [INTUITIVE SURGICAL INC]\n",
       "ESI             0                                     [I T T EDUCATIONAL SERVICES INC]\n",
       "PLUS            0                                                          [EPLUS INC]\n",
       "HHS             1                                                    [HARTE HANKS INC]\n",
       "SMCI            0                                           [SUPER MICRO COMPUTER INC]\n",
       "BDX             0                                              [BECTON DICKINSON & CO]\n",
       "IPXL            1                                             [IMPAX LABORATORIES INC]\n",
       "PFE             7                                                         [PFIZER INC]\n",
       "NKE            20                                                           [NIKE INC]\n",
       "PFG             1                                      [PRINCIPAL FINANCIAL GROUP INC]\n",
       "MCS            21                                                        [MARCUS CORP]\n",
       "CRR             0                                                 [CARBO CERAMICS INC]\n",
       "MRTN            0                                               [MARTEN TRANSPORT LTD]\n",
       "RTN            10                                                        [RAYTHEON CO]\n",
       "IILG            0                                         [INTERVAL LEISURE GROUP INC]\n",
       "KELYA           1                                                 [KELLY SERVICES INC]\n",
       "HPY             1                                      [HEARTLAND PAYMENT SYSTEMS INC]\n",
       "PFS             0                                       [PROVIDENT FINANCIAL SVCS INC]\n",
       "ARRS            5                               [ARRIS GROUP INC, ARRIS GROUP INC NEW]\n",
       "CNP             2                                             [CENTERPOINT ENERGY INC]\n",
       "VSI             1                                                 [VITAMIN SHOPPE INC]\n",
       "NWBI            0                                           [NORTHWEST BANCSHARES INC]\n",
       "NR              0                                              [NEWPARK RESOURCES INC]\n",
       "AN              0                                                 [AUTONATION INC DEL]\n",
       "PCTI            1                                                        [P C TEL INC]\n",
       "CECO            5                                              [CAREER EDUCATION CORP]\n",
       "\n",
       "[1358 rows x 2 columns]"
      ]
     },
     "execution_count": 337,
     "metadata": {},
     "output_type": "execute_result"
    }
   ],
   "source": [
    "SIC = pd.read_csv(\"../data/financial/crsp_400_600_500_2010_2015_ticker_comnam_SIC2.csv\")\n",
    "uricounts[\"comnames\"] = diffnames\n",
    "uricounts\n",
    "\n"
   ]
  },
  {
   "cell_type": "code",
   "execution_count": null,
   "metadata": {
    "collapsed": true
   },
   "outputs": [],
   "source": []
  },
  {
   "cell_type": "markdown",
   "metadata": {},
   "source": [
    "# Querying News <a id=news></a>"
   ]
  },
  {
   "cell_type": "markdown",
   "metadata": {},
   "source": [
    "## Exploring product classification capabilities <a id=classifications></a>"
   ]
  },
  {
   "cell_type": "code",
   "execution_count": 214,
   "metadata": {
    "collapsed": false
   },
   "outputs": [
    {
     "data": {
      "text/plain": [
       "[{u'id': 19, u'label': u'Business', u'uri': u'dmoz/Business'},\n",
       " {u'id': 530,\n",
       "  u'label': u'Business/Hospitality',\n",
       "  u'uri': u'dmoz/Business/Hospitality'},\n",
       " {u'id': 496,\n",
       "  u'label': u'Business/Automotive',\n",
       "  u'uri': u'dmoz/Business/Automotive'},\n",
       " {u'id': 484,\n",
       "  u'label': u'Business/Telecommunications',\n",
       "  u'uri': u'dmoz/Business/Telecommunications'},\n",
       " {u'id': 352,\n",
       "  u'label': u'Business/Publishing_and_Printing',\n",
       "  u'uri': u'dmoz/Business/Publishing_and_Printing'},\n",
       " {u'id': 327,\n",
       "  u'label': u'Business/Industrial_Goods_and_Services',\n",
       "  u'uri': u'dmoz/Business/Industrial_Goods_and_Services'},\n",
       " {u'id': 447,\n",
       "  u'label': u'Business/Healthcare',\n",
       "  u'uri': u'dmoz/Business/Healthcare'},\n",
       " {u'id': 431,\n",
       "  u'label': u'Business/Construction_and_Maintenance',\n",
       "  u'uri': u'dmoz/Business/Construction_and_Maintenance'},\n",
       " {u'id': 382,\n",
       "  u'label': u'Business/Aerospace_and_Defense',\n",
       "  u'uri': u'dmoz/Business/Aerospace_and_Defense'},\n",
       " {u'id': 365,\n",
       "  u'label': u'Business/Retail_Trade',\n",
       "  u'uri': u'dmoz/Business/Retail_Trade'},\n",
       " {u'id': 1007,\n",
       "  u'label': u'Business/Wholesale_Trade',\n",
       "  u'uri': u'dmoz/Business/Wholesale_Trade'},\n",
       " {u'id': 2159,\n",
       "  u'label': u'Business/Cooperatives',\n",
       "  u'uri': u'dmoz/Business/Cooperatives'},\n",
       " {u'id': 768,\n",
       "  u'label': u'Business/Opportunities',\n",
       "  u'uri': u'dmoz/Business/Opportunities'},\n",
       " {u'id': 910,\n",
       "  u'label': u'Business/E-Commerce',\n",
       "  u'uri': u'dmoz/Business/E-Commerce'},\n",
       " {u'id': 3333,\n",
       "  u'label': u'Business/Resources',\n",
       "  u'uri': u'dmoz/Business/Resources'},\n",
       " {u'id': 964,\n",
       "  u'label': u'Business/Materials',\n",
       "  u'uri': u'dmoz/Business/Materials'},\n",
       " {u'id': 645,\n",
       "  u'label': u'Business/Information_Technology',\n",
       "  u'uri': u'dmoz/Business/Information_Technology'},\n",
       " {u'id': 756,\n",
       "  u'label': u'Business/Textiles_and_Nonwovens',\n",
       "  u'uri': u'dmoz/Business/Textiles_and_Nonwovens'},\n",
       " {u'id': 737,\n",
       "  u'label': u'Business/Customer_Service',\n",
       "  u'uri': u'dmoz/Business/Customer_Service'},\n",
       " {u'id': 734,\n",
       "  u'label': u'Business/Environment',\n",
       "  u'uri': u'dmoz/Business/Environment'}]"
      ]
     },
     "execution_count": 214,
     "metadata": {},
     "output_type": "execute_result"
    }
   ],
   "source": [
    "er.suggestCategories(\"business\")"
   ]
  },
  {
   "cell_type": "code",
   "execution_count": null,
   "metadata": {
    "collapsed": true
   },
   "outputs": [],
   "source": []
  },
  {
   "cell_type": "code",
   "execution_count": null,
   "metadata": {
    "collapsed": true
   },
   "outputs": [],
   "source": []
  },
  {
   "cell_type": "markdown",
   "metadata": {},
   "source": [
    "## Articles <a id=articles></a>"
   ]
  },
  {
   "cell_type": "code",
   "execution_count": null,
   "metadata": {
    "collapsed": false
   },
   "outputs": [],
   "source": [
    "\"\"\"\n",
    "%%time\n",
    "\n",
    "# get all articles\n",
    "\n",
    "q_dict_art = {}\n",
    "res_dict_art = {}\n",
    "\n",
    "for i in range(len(uridf)):\n",
    "    # get concept and uri\n",
    "    concept = uridf.index[i]\n",
    "    uri = uridf.uri[i]\n",
    "    \n",
    "    # create article query\n",
    "    q_dict_art[uri] = QueryArticles()\n",
    "    q_dict_art[uri].addConcept(uri)\n",
    "    q_dict_art[uri].addRequestedResult(RequestArticlesUriList(count=50000))\n",
    "    \n",
    "    # store results\n",
    "    res_dict_art[uri] = er.execQuery(q_dict[uri])\n",
    "\"\"\";"
   ]
  },
  {
   "cell_type": "code",
   "execution_count": null,
   "metadata": {
    "collapsed": true
   },
   "outputs": [],
   "source": [
    "# save so no more requesting\n",
    "#with open('../data/res_dict_art.json', 'w') as fp:\n",
    "#    json.dump(res_dict_art, fp, indent=4)\n",
    "\n",
    "with open('../data/res_dict_art.json', 'r') as fp:\n",
    "    res_dict_art = json.load(fp)"
   ]
  },
  {
   "cell_type": "code",
   "execution_count": null,
   "metadata": {
    "collapsed": true
   },
   "outputs": [],
   "source": [
    "# get dict of concepts and articles\n",
    "conartdict = {}\n",
    "\n",
    "for uri, res in res_dict_art.items():\n",
    "    if 'uriList' in res_dict_art[uri]:\n",
    "        if 'results' in res_dict_art[uri]['uriList']:\n",
    "            conartdict[uri] = set(res_dict_art[uri]['uriList']['results'])\n",
    "        else:\n",
    "            conartdict[uri] = set()\n",
    "    else:\n",
    "        conartdict[uri] = set()"
   ]
  },
  {
   "cell_type": "code",
   "execution_count": null,
   "metadata": {
    "collapsed": false
   },
   "outputs": [],
   "source": [
    "# check totals\n",
    "for uri, articles in conartdict.items():\n",
    "    print uri, len(articles)"
   ]
  },
  {
   "cell_type": "code",
   "execution_count": null,
   "metadata": {
    "collapsed": true
   },
   "outputs": [],
   "source": [
    "# check rough concept matrix\n",
    "artcovdf = pd.DataFrame(index=uridf.index.unique(), columns=uridf.index.unique())\n",
    "\n",
    "for i in uridf.index.unique():\n",
    "    for j in uridf.index.unique():\n",
    "        uri_i = uridf.loc[i,:].uri\n",
    "        uri_j = uridf.loc[j,:].uri\n",
    "        artcovdf.loc[i, j] = len(conartdict[uri_i].intersection(conartdict[uri_j])) / len(conartdict[uri_i].union(conartdict[uri_j]))"
   ]
  },
  {
   "cell_type": "markdown",
   "metadata": {},
   "source": [
    "## Events <a id=events></a>"
   ]
  },
  {
   "cell_type": "code",
   "execution_count": null,
   "metadata": {
    "collapsed": false
   },
   "outputs": [],
   "source": [
    "\"\"\"\n",
    "%%time\n",
    "\n",
    "# get all events\n",
    "\n",
    "q_dict_evt = {}\n",
    "res_dict_evt = {}\n",
    "\n",
    "for i in range(len(uridf)):\n",
    "    # get concept and uri\n",
    "    concept = uridf.index[i]\n",
    "    uri = uridf.uri[i]\n",
    "    \n",
    "    # create article query\n",
    "    q_dict_evt[uri] = QueryEvents()\n",
    "    q_dict_evt[uri].addConcept(uri)\n",
    "    q_dict_evt[uri].addRequestedResult(RequestEventsUriList(count=50000))\n",
    "    \n",
    "    # store results\n",
    "    res_dict_evt[uri] = er.execQuery(q_dict_evt[uri])\n",
    "\"\"\";"
   ]
  },
  {
   "cell_type": "code",
   "execution_count": null,
   "metadata": {
    "collapsed": true
   },
   "outputs": [],
   "source": [
    "#with open('../data/res_dict_evt.json', 'w') as fp:\n",
    "#    json.dump(res_dict_evt, fp, indent=4)\n",
    "\n",
    "with open('../data/res_dict_evt.json', 'r') as fp:\n",
    "    res_dict_evt = json.load(fp)"
   ]
  },
  {
   "cell_type": "code",
   "execution_count": null,
   "metadata": {
    "collapsed": false
   },
   "outputs": [],
   "source": [
    "# get dictionary of concepts and article tags\n",
    "conevtdict = {}\n",
    "\n",
    "for uri, res in res_dict_evt.items():\n",
    "    if 'uriList' in res_dict_evt[uri]:\n",
    "        if 'results' in res_dict_evt[uri]['uriList']:\n",
    "            conevtdict[uri] = set(res_dict[uri]['uriList']['results'])\n",
    "        else:\n",
    "            conevtdict[uri] = set()\n",
    "    else:\n",
    "        conevtdict[uri] = set()"
   ]
  },
  {
   "cell_type": "code",
   "execution_count": null,
   "metadata": {
    "collapsed": false
   },
   "outputs": [],
   "source": [
    "# check totals\n",
    "for uri, events in conevtdict.items():\n",
    "    print uri, len(events)"
   ]
  },
  {
   "cell_type": "code",
   "execution_count": null,
   "metadata": {
    "collapsed": false
   },
   "outputs": [],
   "source": [
    "# compute event covariance matrix\n",
    "newscovdf = pd.DataFrame(index=uridf.index.unique(), columns=uridf.index.unique())\n",
    "\n",
    "for i in uridf.index.unique():\n",
    "    for j in uridf.index.unique():\n",
    "        uri_i = uridf.loc[i,:].uri\n",
    "        uri_j = uridf.loc[j,:].uri\n",
    "        newscovdf.loc[i, j] = len(conartdict[uri_i].intersection(conartdict[uri_j])) / np.max((1,len(conartdict[uri_i].union(conartdict[uri_j]))))"
   ]
  },
  {
   "cell_type": "code",
   "execution_count": null,
   "metadata": {
    "collapsed": false
   },
   "outputs": [],
   "source": [
    "newscovdf.sum()"
   ]
  },
  {
   "cell_type": "code",
   "execution_count": null,
   "metadata": {
    "collapsed": true
   },
   "outputs": [],
   "source": []
  }
 ],
 "metadata": {
  "kernelspec": {
   "display_name": "Python 2",
   "language": "python",
   "name": "python2"
  },
  "language_info": {
   "codemirror_mode": {
    "name": "ipython",
    "version": 2
   },
   "file_extension": ".py",
   "mimetype": "text/x-python",
   "name": "python",
   "nbconvert_exporter": "python",
   "pygments_lexer": "ipython2",
   "version": "2.7.11"
  }
 },
 "nbformat": 4,
 "nbformat_minor": 0
}
